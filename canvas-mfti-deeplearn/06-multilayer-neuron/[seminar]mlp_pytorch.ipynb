{
 "cells": [
  {
   "cell_type": "markdown",
   "metadata": {
    "colab_type": "text",
    "id": "aaSoSTVpYJcu"
   },
   "source": [
    "<img src=\"https://s8.hostingkartinok.com/uploads/images/2018/08/308b49fcfbc619d629fe4604bceb67ac.jpg\" width=500,>\n",
    "<h3 style=\"text-align: center;\"><b>Физтех-Школа Прикладной математики и информатики (ФПМИ) МФТИ</b></h3>"
   ]
  },
  {
   "cell_type": "markdown",
   "metadata": {
    "colab_type": "text",
    "id": "GpZt9IYkYJcw"
   },
   "source": [
    "---"
   ]
  },
  {
   "cell_type": "markdown",
   "metadata": {
    "colab_type": "text",
    "id": "s4wplUzDYJcx"
   },
   "source": [
    "<h2 style=\"text-align: center;\"><b>Многослойная сеть на PyTorch</b></h3>"
   ]
  },
  {
   "cell_type": "markdown",
   "metadata": {
    "colab_type": "text",
    "id": "J2msuyHTYJcx"
   },
   "source": [
    "В этом ноутбке мы научимся писать свои нейросети на фреймворке PyTorch, конкретно - рассмотрим, как написать многослойную полносвязную сеть (Fully-Connected, FC), и сравним их качество на датасете картинок MNIST."
   ]
  },
  {
   "cell_type": "markdown",
   "metadata": {
    "colab_type": "text",
    "id": "9xJnMEZrYJcz"
   },
   "source": [
    "<h3 style=\"text-align: center;\"><b>Компоненты нейросети</b></h3>"
   ]
  },
  {
   "cell_type": "markdown",
   "metadata": {
    "colab_type": "text",
    "id": "InwacmvIYJc0"
   },
   "source": [
    "Здесь самое время напомнить о том, какие вещи играют принципиальную роль в построении любой ***нейронной сети*** (все их мы задаём *руками*, самостоятельно):  \n",
    "\n",
    "- непосредственно, сама **архитектура** нейросети (сюда входят типы функций активации у каждого нейрона);\n",
    "- начальная **инициализация** весов каждого слоя;\n",
    "- метод **оптимизации** нейросети (сюда ещё входит метод изменения `learning_rate`);\n",
    "- размер **батчей** (`batch_size`);\n",
    "- количество итераций обучения (`num_epochs`);\n",
    "- **функция потерь** (`loss`);  \n",
    "- тип **регуляризации** нейросети (для каждого слоя можно свой);  \n",
    "\n",
    "То, что связано с ***данными и задачей***:  \n",
    "- само **качество** выборки (непротиворечивость, чистота, корректность постановки задачи);  \n",
    "- **размер** выборки;  "
   ]
  },
  {
   "cell_type": "markdown",
   "metadata": {
    "colab_type": "text",
    "id": "tXujEOB0YJc1"
   },
   "source": [
    "<h3 style=\"text-align: center;\"><b>Многослойная нейронная сеть</b></h3>"
   ]
  },
  {
   "cell_type": "markdown",
   "metadata": {
    "colab_type": "text",
    "id": "mnxH-DajYJc3"
   },
   "source": [
    "Как можно понять из названия, многослойная нейросеть состоит из нескольких **слоёв**. Каждый слой состоит из **нейронов**. Ранее мы уже писали свой нейрон на NumPy, вот из таких нейронов и состоит ***MLP (Multi-Layer Perceptron)***. Ещё такую многослойную нейросеть, у которой каждый нейрон на предыдущем уровне соединён с нейроном на следующем уровне, называют ***Fully-Connected-сетью*** (или ***Dense-сетью***).  \n",
    "\n",
    "Расмотрим их устройство более подробно:"
   ]
  },
  {
   "cell_type": "markdown",
   "metadata": {
    "colab_type": "text",
    "id": "onjJUneMYJc5"
   },
   "source": [
    "* Вот так выглядит двухслойная нейросеть (первый слой - input layer - не считается, потому что это, по сути, не слой):"
   ]
  },
  {
   "cell_type": "markdown",
   "metadata": {
    "colab_type": "text",
    "id": "owRRulLzYJc6"
   },
   "source": [
    "<img src=\"http://cs231n.github.io/assets/nn1/neural_net.jpeg\" width=300, height=200>"
   ]
  },
  {
   "cell_type": "markdown",
   "metadata": {
    "colab_type": "text",
    "id": "tFNxGGBEYJc8"
   },
   "source": [
    "* Так выглядит трёхслойная нейросеть:"
   ]
  },
  {
   "cell_type": "markdown",
   "metadata": {
    "colab_type": "text",
    "id": "zRaKX35eYJc9"
   },
   "source": [
    "<img src=\"http://cs231n.github.io/assets/nn1/neural_net2.jpeg\" width=400>"
   ]
  },
  {
   "cell_type": "markdown",
   "metadata": {
    "colab_type": "text",
    "id": "6w1FTkO1YJc-"
   },
   "source": [
    ".. и так далее для большего случая слоёв."
   ]
  },
  {
   "cell_type": "markdown",
   "metadata": {
    "colab_type": "text",
    "id": "8iKV7m5YYJc_"
   },
   "source": [
    "**Обратите внимание:** связи есть у нейронов со слоя $L_{i-1}$  и нейронов $L_{i}$, но между нейронами в одном слое связей **нет**."
   ]
  },
  {
   "cell_type": "markdown",
   "metadata": {
    "colab_type": "text",
    "id": "URV9qWkfYJdA"
   },
   "source": [
    "**Входной слой** -- это данные (матрица $(n, m)$)."
   ]
  },
  {
   "cell_type": "markdown",
   "metadata": {
    "colab_type": "text",
    "id": "zK8tWuHHYJdB"
   },
   "source": [
    "Слои, которые не являются входными или выходными, называются **скрытыми слоями (hidden layers)**."
   ]
  },
  {
   "cell_type": "markdown",
   "metadata": {
    "colab_type": "text",
    "id": "fz9clUlCYJdC"
   },
   "source": [
    "При решении ***задачи регрессии*** на **выходном слое** обычно один нейрон, который возвращает предсказанные числа (для каждого объекта по числу).  \n",
    "\n",
    "В случае ***задачи классификации*** на **выходном слое** обычно один нейрон, если задача бинарной классификации, и $K$ нейронов, если задача $K$-класовой классификации."
   ]
  },
  {
   "cell_type": "markdown",
   "metadata": {
    "colab_type": "text",
    "id": "nJblXqY5YJdE"
   },
   "source": [
    "#### Forward pass в MLP"
   ]
  },
  {
   "cell_type": "markdown",
   "metadata": {
    "colab_type": "text",
    "id": "D87xoAl8YJdF"
   },
   "source": [
    "Каждый слой многослойной нейросети - это матрица весов, строки которой - это нейроны (одна строка - один нейрон), а столбцы - веса каждого нейрона (то есть одна строка - это веса одного нейрона)."
   ]
  },
  {
   "cell_type": "markdown",
   "metadata": {
    "colab_type": "text",
    "collapsed": true,
    "id": "RyXUqCfVYJdG"
   },
   "source": [
    "Допустим, мы решаем задачу $K$-классовой классификации (на последнем слое $K$ нейронов). Рассмотрим, как в таком случае выглядит `forward_pass` нейросети:"
   ]
  },
  {
   "cell_type": "markdown",
   "metadata": {
    "colab_type": "text",
    "id": "YO6gHbOjYJdH"
   },
   "source": [
    "* Вход: $$X =\n",
    "\\left(\n",
    "\\begin{matrix} \n",
    "x_{11} & ... & x_{1M} \\\\\n",
    "... & \\ddots  & ...\\\\\n",
    "x_{N1} & ... & x_{NM} \n",
    "\\end{matrix}\n",
    "\\right)\n",
    "$$\n",
    "\n",
    "-- матрица $(N, M)$"
   ]
  },
  {
   "cell_type": "markdown",
   "metadata": {
    "colab_type": "text",
    "collapsed": true,
    "id": "XdImZiQkYJdI"
   },
   "source": [
    "* Структура сети - много слоёв, в слоях много нейронов. Первый слой (после входного) выглядит так:"
   ]
  },
  {
   "cell_type": "markdown",
   "metadata": {
    "colab_type": "text",
    "id": "U2c2M4MJYJdJ"
   },
   "source": [
    "$$ W^1 =\n",
    "\\left(\n",
    "\\begin{matrix} \n",
    "w_{11} & ... & w_{1L_1} \\\\\n",
    "... & \\ddots  & ...\\\\\n",
    "w_{M1} & ... & w_{ML_1} \n",
    "\\end{matrix}\n",
    "\\right)\n",
    "$$\n",
    "\n",
    "-- матрица $(M, L_1)$"
   ]
  },
  {
   "cell_type": "markdown",
   "metadata": {
    "colab_type": "text",
    "id": "UUCdeLN0YJdK"
   },
   "source": [
    "То есть это в точности $L_1$ нейронов, каждый имеет свои собственные веса, их $M$ штук."
   ]
  },
  {
   "cell_type": "markdown",
   "metadata": {
    "colab_type": "text",
    "id": "ixHtlMwKYJdL"
   },
   "source": [
    "Мы помним, что нейрон - это линейное преобразование и потом нелинейная функция активации от этого преобразования. Однако в многослойных нейростеях часто отделяют `Linear` часть и `Activation`, то есть слоем считаем набор весов нейронов, а следующий слой всегда функция активации (у всех нейронов из слоя она одна и та же, обычно фреймворки не позволяют задавать конкретному нейрону в слое отличную от других нейронов в этом слое функцию активации, однако это легко сделать, объявив слой из одного нейрона)."
   ]
  },
  {
   "cell_type": "markdown",
   "metadata": {
    "colab_type": "text",
    "id": "AUt1NgTvYJdN"
   },
   "source": [
    "* Другие слои выглядит точно так же, как первый слой. Например, у второй слой будет такой:"
   ]
  },
  {
   "cell_type": "markdown",
   "metadata": {
    "colab_type": "text",
    "id": "IdtSTvTmYJdN"
   },
   "source": [
    "$$ W^2 =\n",
    "\\left(\n",
    "\\begin{matrix} \n",
    "w_{11} & ... & w_{1L_2} \\\\\n",
    "... & \\ddots  & ...\\\\\n",
    "w_{L_11} & ... & w_{L_1L_2} \n",
    "\\end{matrix}\n",
    "\\right)\n",
    "$$\n",
    "\n",
    "-- матрица $(L_1, L_2)$"
   ]
  },
  {
   "cell_type": "markdown",
   "metadata": {
    "colab_type": "text",
    "id": "R3nGnHoLYJdP"
   },
   "source": [
    "То есть это в точности $L_2$ нейронов, каждый имеет свои собственные веса, их $L_1$ штук."
   ]
  },
  {
   "cell_type": "markdown",
   "metadata": {
    "colab_type": "text",
    "id": "bQhOAQjSYJdR"
   },
   "source": [
    "* Выходной слой:  \n",
    "\n",
    "Пусть в нейросети до выходного слоя идут $t$ слоёв. Тогда выходной слой имеет форму:"
   ]
  },
  {
   "cell_type": "markdown",
   "metadata": {
    "colab_type": "text",
    "id": "fWvqm-K0YJdT"
   },
   "source": [
    "$$ W^{out} =\n",
    "\\left(\n",
    "\\begin{matrix} \n",
    "w_{11} & ... & w_{1K} \\\\\n",
    "... & \\ddots  & ...\\\\\n",
    "w_{L_t1} & ... & w_{L_tK} \n",
    "\\end{matrix}\n",
    "\\right)\n",
    "$$\n",
    "\n",
    "-- матрица $(L_t, K)$, где $L_t$ - количество нейронов в $t$-ом слое, а $K$ -- количество классов."
   ]
  },
  {
   "cell_type": "markdown",
   "metadata": {
    "colab_type": "text",
    "id": "2z5tO89NYJdU"
   },
   "source": [
    "В итоге ***для `forward_pass` нам нужно просто последовтельно перемножить матрицы друг за другом, применяя после каждого умножения соответсвующую функцию активации***."
   ]
  },
  {
   "cell_type": "markdown",
   "metadata": {
    "colab_type": "text",
    "id": "IZT4GgsCYJdV"
   },
   "source": [
    "*Примечание*: можно думать об умножении на очередную матрицу весов как на переход в **новое признаковое пространство**. Действительно, когда подаём матрицу $X$ и умножаем на матрицу первого слоя, мы получаем матрицу размера $(N, L_1)$, то есть как будто $L_1$ \"новых\" признаков (построенных как линейная комбинация старых до применения функции активации, и уже как нелинейная комбинация после активации)."
   ]
  },
  {
   "cell_type": "markdown",
   "metadata": {
    "colab_type": "text",
    "id": "4RhJ4fsHYJdW"
   },
   "source": [
    "**Backward pass в MLP**"
   ]
  },
  {
   "cell_type": "markdown",
   "metadata": {
    "colab_type": "text",
    "id": "MYN043DbYJdX"
   },
   "source": [
    "Обучается с помощью метода \"Error Backpropagation\" - [\"Обратное распространение ошибки\"](https://ru.wikipedia.org/wiki/%D0%9C%D0%B5%D1%82%D0%BE%D0%B4_%D0%BE%D0%B1%D1%80%D0%B0%D1%82%D0%BD%D0%BE%D0%B3%D0%BE_%D1%80%D0%B0%D1%81%D0%BF%D1%80%D0%BE%D1%81%D1%82%D1%80%D0%B0%D0%BD%D0%B5%D0%BD%D0%B8%D1%8F_%D0%BE%D1%88%D0%B8%D0%B1%D0%BA%D0%B8), принцип распространения очень похож на то, как мы обучали один нейрон - это градиентный спуск, но по \"всей нейросети\" сразу.  "
   ]
  },
  {
   "cell_type": "markdown",
   "metadata": {
    "colab_type": "text",
    "collapsed": true,
    "id": "oK7Vi4bxYJdZ"
   },
   "source": [
    "Backpropagation работает корректно благодаря ***chain rule*** (=правилу взятия производной сложной функции):  \n",
    "\n",
    "Если $f(x) = f(g(x))$, то:  \n",
    "\n",
    "$$\\frac{\\partial{f}}{\\partial{x}} = \\frac{\\partial{f}}{\\partial{g}} \\frac{\\partial{g}}{\\partial{x}}$$"
   ]
  },
  {
   "cell_type": "markdown",
   "metadata": {
    "colab_type": "text",
    "collapsed": true,
    "id": "WKvMsaEBYJda"
   },
   "source": [
    "Более подробно про backpropagation можно прочитать здесь (на английском):  https://mattmazur.com/2015/03/17/a-step-by-step-backpropagation-example/"
   ]
  },
  {
   "cell_type": "markdown",
   "metadata": {
    "colab_type": "text",
    "id": "z5dyjPVNYJdc"
   },
   "source": [
    "<h3 style=\"text-align: center;\"><b>Многослойная нейросеть на PyTorch</b></h3>"
   ]
  },
  {
   "cell_type": "markdown",
   "metadata": {
    "colab_type": "text",
    "id": "T9ufk3ECYJde"
   },
   "source": [
    "Ешё раз напомним про основные компоненты нейросети:\n",
    "\n",
    "- непосредственно, сама **архитектура** нейросети (сюда входят типы функций активации у каждого нейрона);\n",
    "- начальная **инициализация** весов каждого слоя;\n",
    "- метод **оптимизации** нейросети (сюда ещё входит метод изменения `learning_rate`);\n",
    "- размер **батчей** (`batch_size`);\n",
    "- количетсво итераций обучения (`num_epochs`);\n",
    "- **функция потерь** (`loss`);  \n",
    "- тип **регуляризации** нейросети (для каждого слоя можно свой);  \n",
    "\n",
    "То, что связано с ***данными и задачей***:  \n",
    "- само **качество** выборки (непротиворечивость, чистота, корректность постановки задачи);  \n",
    "- **размер** выборки;  "
   ]
  },
  {
   "cell_type": "markdown",
   "metadata": {
    "colab_type": "text",
    "id": "9KrWarqTYJdf"
   },
   "source": [
    "Не будем медлить - бахнем 100 нейронов в двуслойную нейросеть (датасет - снова \"Игрушка дьявола\"):"
   ]
  },
  {
   "cell_type": "code",
   "execution_count": 1,
   "metadata": {
    "colab": {},
    "colab_type": "code",
    "id": "bLjkPg19YJdg"
   },
   "outputs": [],
   "source": [
    "import matplotlib.pyplot as plt\n",
    "import numpy as np\n",
    "\n",
    "import torch"
   ]
  },
  {
   "cell_type": "markdown",
   "metadata": {
    "colab_type": "text",
    "id": "iCDVRvQJYJdl"
   },
   "source": [
    "Генерация и отрисовка датасета:"
   ]
  },
  {
   "cell_type": "code",
   "execution_count": 2,
   "metadata": {
    "colab": {},
    "colab_type": "code",
    "id": "k0J27RcLYJdm"
   },
   "outputs": [],
   "source": [
    "# код для генерации взят из Стэнфордсокго курса:\n",
    "# http://cs231n.github.io/neural-networks-case-study/#linear\n",
    "\n",
    "N = 100\n",
    "D = 2\n",
    "K = 3\n",
    "X = np.zeros((N * K, D))\n",
    "y = np.zeros(N * K, dtype='uint8')\n",
    "\n",
    "for j in range(K):\n",
    "    ix = range(N * j,N * (j + 1))\n",
    "    r = np.linspace(0.0, 1, N)\n",
    "    t = np.linspace(j * 4, (j + 1) * 4,N) + np.random.randn(N) * 0.2 # theta\n",
    "    X[ix] = np.c_[r * np.sin(t), r * np.cos(t)]\n",
    "    y[ix] = j"
   ]
  },
  {
   "cell_type": "markdown",
   "metadata": {
    "colab_type": "text",
    "id": "X9FHhqX_YJdp"
   },
   "source": [
    "Не забываем оборачивать данные (без этого градиенты не посчитать):"
   ]
  },
  {
   "cell_type": "code",
   "execution_count": 3,
   "metadata": {
    "colab": {},
    "colab_type": "code",
    "id": "pQINaQqZYJdq"
   },
   "outputs": [],
   "source": [
    "X = torch.autograd.Variable(torch.FloatTensor(X))\n",
    "y = torch.autograd.Variable(torch.LongTensor(y.astype(np.int64)))"
   ]
  },
  {
   "cell_type": "code",
   "execution_count": 4,
   "metadata": {
    "colab": {},
    "colab_type": "code",
    "id": "Who9mS8oYJdu",
    "outputId": "1ec6e30a-2cd9-4bd6-d0e0-3b7c936d1b8a"
   },
   "outputs": [
    {
     "name": "stdout",
     "output_type": "stream",
     "text": [
      "torch.Size([300, 2]) torch.Size([300])\n"
     ]
    }
   ],
   "source": [
    "print(X.data.shape, y.data.shape)"
   ]
  },
  {
   "cell_type": "markdown",
   "metadata": {
    "colab_type": "text",
    "id": "I-9dFW5CYJd0"
   },
   "source": [
    "Сама ячейка с сеткой и обучением:"
   ]
  },
  {
   "cell_type": "code",
   "execution_count": 5,
   "metadata": {
    "colab": {},
    "colab_type": "code",
    "id": "kf-YapleYJd1",
    "outputId": "d71315ae-670a-48e3-bcf7-b425ebe198fe"
   },
   "outputs": [
    {
     "name": "stderr",
     "output_type": "stream",
     "text": [
      "c:\\_work\\env-deeplearn\\lib\\site-packages\\torch\\nn\\_reduction.py:49: UserWarning: size_average and reduce args will be deprecated, please use reduction='sum' instead.\n",
      "  warnings.warn(warning.format(ret))\n"
     ]
    },
    {
     "name": "stdout",
     "output_type": "stream",
     "text": [
      "0 333.65118408203125\n",
      "1 331.5013732910156\n",
      "2 329.4237365722656\n",
      "3 327.4120788574219\n",
      "4 325.46185302734375\n",
      "5 323.568359375\n",
      "6 321.7283020019531\n",
      "7 319.93780517578125\n",
      "8 318.1941833496094\n",
      "9 316.4947204589844\n",
      "10 314.8377380371094\n",
      "11 313.2206726074219\n",
      "12 311.64215087890625\n",
      "13 310.1001281738281\n",
      "14 308.59356689453125\n",
      "15 307.12115478515625\n",
      "16 305.6813049316406\n",
      "17 304.273193359375\n",
      "18 302.8957824707031\n",
      "19 301.5479431152344\n",
      "20 300.2284851074219\n",
      "21 298.9368591308594\n",
      "22 297.6723937988281\n",
      "23 296.4342041015625\n",
      "24 295.221435546875\n",
      "25 294.03338623046875\n",
      "26 292.8692626953125\n",
      "27 291.728759765625\n",
      "28 290.6112365722656\n",
      "29 289.5158996582031\n",
      "30 288.44244384765625\n",
      "31 287.3899230957031\n",
      "32 286.3580322265625\n",
      "33 285.3460998535156\n",
      "34 284.3535461425781\n",
      "35 283.3804931640625\n",
      "36 282.42584228515625\n",
      "37 281.4895324707031\n",
      "38 280.57080078125\n",
      "39 279.6695861816406\n",
      "40 278.78509521484375\n",
      "41 277.9172058105469\n",
      "42 277.0652770996094\n",
      "43 276.2290954589844\n",
      "44 275.4085693359375\n",
      "45 274.6026916503906\n",
      "46 273.8115539550781\n",
      "47 273.03448486328125\n",
      "48 272.2716979980469\n",
      "49 271.5224304199219\n",
      "50 270.7862243652344\n",
      "51 270.0633544921875\n",
      "52 269.3529052734375\n",
      "53 268.65521240234375\n",
      "54 267.9694519042969\n",
      "55 267.2954406738281\n",
      "56 266.6329345703125\n",
      "57 265.981689453125\n",
      "58 265.34173583984375\n",
      "59 264.71246337890625\n",
      "60 264.09381103515625\n",
      "61 263.4857482910156\n",
      "62 262.8876953125\n",
      "63 262.2995910644531\n",
      "64 261.7211608886719\n",
      "65 261.1523132324219\n",
      "66 260.59234619140625\n",
      "67 260.0417175292969\n",
      "68 259.49981689453125\n",
      "69 258.96661376953125\n",
      "70 258.4418029785156\n",
      "71 257.9255065917969\n",
      "72 257.4172058105469\n",
      "73 256.9169616699219\n",
      "74 256.42449951171875\n",
      "75 255.93983459472656\n",
      "76 255.4627227783203\n",
      "77 254.99298095703125\n",
      "78 254.5303192138672\n",
      "79 254.07467651367188\n",
      "80 253.62583923339844\n",
      "81 253.1837615966797\n",
      "82 252.7483367919922\n",
      "83 252.3192138671875\n",
      "84 251.89642333984375\n",
      "85 251.47996520996094\n",
      "86 251.06980895996094\n",
      "87 250.6655731201172\n",
      "88 250.2674560546875\n",
      "89 249.87493896484375\n",
      "90 249.4879150390625\n",
      "91 249.10667419433594\n",
      "92 248.73086547851562\n",
      "93 248.3603515625\n",
      "94 247.9952850341797\n",
      "95 247.63522338867188\n",
      "96 247.28012084960938\n",
      "97 246.93011474609375\n",
      "98 246.5846405029297\n",
      "99 246.24398803710938\n",
      "100 245.90811157226562\n",
      "101 245.57666015625\n",
      "102 245.249755859375\n",
      "103 244.927490234375\n",
      "104 244.60928344726562\n",
      "105 244.29525756835938\n",
      "106 243.98550415039062\n",
      "107 243.67990112304688\n",
      "108 243.37831115722656\n",
      "109 243.08059692382812\n",
      "110 242.7868194580078\n",
      "111 242.49679565429688\n",
      "112 242.2102813720703\n",
      "113 241.92764282226562\n",
      "114 241.64846801757812\n",
      "115 241.37306213378906\n",
      "116 241.10118103027344\n",
      "117 240.83233642578125\n",
      "118 240.56716918945312\n",
      "119 240.305419921875\n",
      "120 240.04661560058594\n",
      "121 239.79116821289062\n",
      "122 239.53890991210938\n",
      "123 239.28948974609375\n",
      "124 239.043212890625\n",
      "125 238.79989624023438\n",
      "126 238.5595245361328\n",
      "127 238.32205200195312\n",
      "128 238.0873260498047\n",
      "129 237.85545349121094\n",
      "130 237.62631225585938\n",
      "131 237.3997802734375\n",
      "132 237.1759490966797\n",
      "133 236.95452880859375\n",
      "134 236.73590087890625\n",
      "135 236.51966857910156\n",
      "136 236.30589294433594\n",
      "137 236.09439086914062\n",
      "138 235.88551330566406\n",
      "139 235.67897033691406\n",
      "140 235.4745330810547\n",
      "141 235.27272033691406\n",
      "142 235.07289123535156\n",
      "143 234.8753204345703\n",
      "144 234.67979431152344\n",
      "145 234.48655700683594\n",
      "146 234.29531860351562\n",
      "147 234.106201171875\n",
      "148 233.91893005371094\n",
      "149 233.73390197753906\n",
      "150 233.55064392089844\n",
      "151 233.3693084716797\n",
      "152 233.1898956298828\n",
      "153 233.0122528076172\n",
      "154 232.83663940429688\n",
      "155 232.66290283203125\n",
      "156 232.49069213867188\n",
      "157 232.32034301757812\n",
      "158 232.1515655517578\n",
      "159 231.98434448242188\n",
      "160 231.8186492919922\n",
      "161 231.6547393798828\n",
      "162 231.49246215820312\n",
      "163 231.33164978027344\n",
      "164 231.17262268066406\n",
      "165 231.0151824951172\n",
      "166 230.85899353027344\n",
      "167 230.70449829101562\n",
      "168 230.5514373779297\n",
      "169 230.39991760253906\n",
      "170 230.24981689453125\n",
      "171 230.10116577148438\n",
      "172 229.95394897460938\n",
      "173 229.80810546875\n",
      "174 229.6635284423828\n",
      "175 229.52008056640625\n",
      "176 229.3780975341797\n",
      "177 229.23751831054688\n",
      "178 229.09791564941406\n",
      "179 228.95973205566406\n",
      "180 228.82293701171875\n",
      "181 228.68734741210938\n",
      "182 228.5530548095703\n",
      "183 228.4197998046875\n",
      "184 228.28778076171875\n",
      "185 228.1569061279297\n",
      "186 228.02719116210938\n",
      "187 227.8983612060547\n",
      "188 227.77099609375\n",
      "189 227.6445770263672\n",
      "190 227.51905822753906\n",
      "191 227.39463806152344\n",
      "192 227.27145385742188\n",
      "193 227.1491241455078\n",
      "194 227.02801513671875\n",
      "195 226.9077606201172\n",
      "196 226.78848266601562\n",
      "197 226.67013549804688\n",
      "198 226.55259704589844\n",
      "199 226.4361572265625\n",
      "200 226.3207550048828\n",
      "201 226.2062225341797\n",
      "202 226.09263610839844\n",
      "203 225.97988891601562\n",
      "204 225.8678436279297\n",
      "205 225.75697326660156\n",
      "206 225.64678955078125\n",
      "207 225.53750610351562\n",
      "208 225.42919921875\n",
      "209 225.32144165039062\n",
      "210 225.21463012695312\n",
      "211 225.10853576660156\n",
      "212 225.0033721923828\n",
      "213 224.8988494873047\n",
      "214 224.79522705078125\n",
      "215 224.69224548339844\n",
      "216 224.5900115966797\n",
      "217 224.48861694335938\n",
      "218 224.38790893554688\n",
      "219 224.28805541992188\n",
      "220 224.18862915039062\n",
      "221 224.09024047851562\n",
      "222 223.9923553466797\n",
      "223 223.8949432373047\n",
      "224 223.7984619140625\n",
      "225 223.70248413085938\n",
      "226 223.60696411132812\n",
      "227 223.5123291015625\n",
      "228 223.4181671142578\n",
      "229 223.3245849609375\n",
      "230 223.2317657470703\n",
      "231 223.13949584960938\n",
      "232 223.0478057861328\n",
      "233 222.95693969726562\n",
      "234 222.86634826660156\n",
      "235 222.77667236328125\n",
      "236 222.687255859375\n",
      "237 222.59849548339844\n",
      "238 222.51036071777344\n",
      "239 222.42263793945312\n",
      "240 222.33575439453125\n",
      "241 222.24923706054688\n",
      "242 222.16339111328125\n",
      "243 222.07797241210938\n",
      "244 221.99317932128906\n",
      "245 221.90892028808594\n",
      "246 221.82496643066406\n",
      "247 221.7415771484375\n",
      "248 221.65904235839844\n",
      "249 221.57655334472656\n",
      "250 221.49461364746094\n",
      "251 221.4132080078125\n",
      "252 221.3323974609375\n",
      "253 221.2519073486328\n",
      "254 221.17205810546875\n",
      "255 221.09263610839844\n",
      "256 221.013671875\n",
      "257 220.93524169921875\n",
      "258 220.85704040527344\n",
      "259 220.77940368652344\n",
      "260 220.70208740234375\n",
      "261 220.62518310546875\n",
      "262 220.5489044189453\n",
      "263 220.4727783203125\n",
      "264 220.39723205566406\n",
      "265 220.32208251953125\n",
      "266 220.24720764160156\n",
      "267 220.17286682128906\n",
      "268 220.09881591796875\n",
      "269 220.02516174316406\n",
      "270 219.95159912109375\n",
      "271 219.8785400390625\n",
      "272 219.8058319091797\n",
      "273 219.73345947265625\n",
      "274 219.6616668701172\n",
      "275 219.590087890625\n",
      "276 219.5188751220703\n",
      "277 219.44786071777344\n",
      "278 219.37734985351562\n",
      "279 219.30709838867188\n",
      "280 219.2372283935547\n",
      "281 219.16761779785156\n",
      "282 219.09841918945312\n",
      "283 219.02952575683594\n",
      "284 218.96090698242188\n",
      "285 218.89266967773438\n",
      "286 218.82476806640625\n",
      "287 218.75726318359375\n",
      "288 218.6900634765625\n",
      "289 218.62283325195312\n",
      "290 218.5562286376953\n",
      "291 218.4898223876953\n",
      "292 218.42355346679688\n",
      "293 218.35769653320312\n",
      "294 218.2921600341797\n",
      "295 218.2267303466797\n",
      "296 218.16162109375\n",
      "297 218.09669494628906\n",
      "298 218.03201293945312\n",
      "299 217.9677276611328\n",
      "300 217.90365600585938\n",
      "301 217.83981323242188\n",
      "302 217.7763214111328\n",
      "303 217.71282958984375\n",
      "304 217.64971923828125\n",
      "305 217.5869598388672\n",
      "306 217.52427673339844\n",
      "307 217.4620361328125\n",
      "308 217.39979553222656\n",
      "309 217.3379669189453\n",
      "310 217.27630615234375\n",
      "311 217.21495056152344\n",
      "312 217.15383911132812\n",
      "313 217.0926971435547\n",
      "314 217.03187561035156\n",
      "315 216.9712677001953\n",
      "316 216.91094970703125\n",
      "317 216.85064697265625\n",
      "318 216.79061889648438\n",
      "319 216.7308807373047\n",
      "320 216.6713409423828\n",
      "321 216.6118621826172\n",
      "322 216.5526123046875\n",
      "323 216.4935760498047\n",
      "324 216.43472290039062\n",
      "325 216.37588500976562\n",
      "326 216.31736755371094\n",
      "327 216.25909423828125\n",
      "328 216.20106506347656\n",
      "329 216.1430206298828\n",
      "330 216.08531188964844\n",
      "331 216.0276336669922\n",
      "332 215.97032165527344\n",
      "333 215.91294860839844\n",
      "334 215.85585021972656\n",
      "335 215.7987823486328\n",
      "336 215.7420196533203\n",
      "337 215.68536376953125\n",
      "338 215.6288299560547\n",
      "339 215.57257080078125\n",
      "340 215.51638793945312\n",
      "341 215.46041870117188\n",
      "342 215.4044189453125\n",
      "343 215.3488311767578\n",
      "344 215.29324340820312\n",
      "345 215.23779296875\n",
      "346 215.1827392578125\n",
      "347 215.1277313232422\n",
      "348 215.07284545898438\n",
      "349 215.01806640625\n",
      "350 214.9635009765625\n",
      "351 214.90904235839844\n",
      "352 214.85462951660156\n",
      "353 214.80035400390625\n",
      "354 214.7462615966797\n",
      "355 214.6923370361328\n",
      "356 214.63861083984375\n",
      "357 214.5848846435547\n",
      "358 214.53126525878906\n",
      "359 214.47793579101562\n",
      "360 214.42469787597656\n",
      "361 214.37159729003906\n",
      "362 214.318603515625\n",
      "363 214.26577758789062\n",
      "364 214.2133331298828\n",
      "365 214.16053771972656\n",
      "366 214.1082000732422\n",
      "367 214.0557403564453\n",
      "368 214.00355529785156\n",
      "369 213.9515380859375\n",
      "370 213.89964294433594\n",
      "371 213.8478240966797\n",
      "372 213.7960205078125\n",
      "373 213.74447631835938\n",
      "374 213.69277954101562\n",
      "375 213.64151000976562\n",
      "376 213.5900115966797\n",
      "377 213.5390167236328\n",
      "378 213.48780822753906\n",
      "379 213.4368896484375\n",
      "380 213.38607788085938\n",
      "381 213.3354034423828\n",
      "382 213.2848663330078\n",
      "383 213.23440551757812\n",
      "384 213.18408203125\n",
      "385 213.13369750976562\n",
      "386 213.0836944580078\n",
      "387 213.03355407714844\n",
      "388 212.98370361328125\n",
      "389 212.93365478515625\n",
      "390 212.88400268554688\n",
      "391 212.8341522216797\n",
      "392 212.7844696044922\n",
      "393 212.73492431640625\n",
      "394 212.68533325195312\n",
      "395 212.6359100341797\n",
      "396 212.58645629882812\n",
      "397 212.53695678710938\n",
      "398 212.48764038085938\n",
      "399 212.4382781982422\n",
      "400 212.3890380859375\n",
      "401 212.33987426757812\n",
      "402 212.29087829589844\n",
      "403 212.2418975830078\n",
      "404 212.19290161132812\n",
      "405 212.14393615722656\n",
      "406 212.09523010253906\n",
      "407 212.0463104248047\n",
      "408 211.9977264404297\n",
      "409 211.9490203857422\n",
      "410 211.90037536621094\n",
      "411 211.8518524169922\n",
      "412 211.80345153808594\n",
      "413 211.7550811767578\n",
      "414 211.70660400390625\n"
     ]
    },
    {
     "name": "stdout",
     "output_type": "stream",
     "text": [
      "415 211.65841674804688\n",
      "416 211.61029052734375\n",
      "417 211.5622100830078\n",
      "418 211.51412963867188\n",
      "419 211.4661407470703\n",
      "420 211.4181365966797\n",
      "421 211.370361328125\n",
      "422 211.322509765625\n",
      "423 211.27476501464844\n",
      "424 211.22715759277344\n",
      "425 211.1795196533203\n",
      "426 211.1319580078125\n",
      "427 211.08460998535156\n",
      "428 211.0374298095703\n",
      "429 210.99017333984375\n",
      "430 210.943115234375\n",
      "431 210.89599609375\n",
      "432 210.8491973876953\n",
      "433 210.80230712890625\n",
      "434 210.75546264648438\n",
      "435 210.70867919921875\n",
      "436 210.66204833984375\n",
      "437 210.6155548095703\n",
      "438 210.5689697265625\n",
      "439 210.52252197265625\n",
      "440 210.4760284423828\n",
      "441 210.42965698242188\n",
      "442 210.3832244873047\n",
      "443 210.33689880371094\n",
      "444 210.29052734375\n",
      "445 210.24432373046875\n",
      "446 210.19818115234375\n",
      "447 210.15188598632812\n",
      "448 210.10574340820312\n",
      "449 210.05982971191406\n",
      "450 210.01370239257812\n",
      "451 209.96759033203125\n",
      "452 209.92164611816406\n",
      "453 209.87559509277344\n",
      "454 209.8297119140625\n",
      "455 209.78390502929688\n",
      "456 209.73800659179688\n",
      "457 209.69212341308594\n",
      "458 209.64651489257812\n",
      "459 209.60073852539062\n",
      "460 209.55503845214844\n",
      "461 209.50936889648438\n",
      "462 209.46356201171875\n",
      "463 209.41796875\n",
      "464 209.37225341796875\n",
      "465 209.32675170898438\n",
      "466 209.2811279296875\n",
      "467 209.23550415039062\n",
      "468 209.1900634765625\n",
      "469 209.14463806152344\n",
      "470 209.09918212890625\n",
      "471 209.05398559570312\n",
      "472 209.00885009765625\n",
      "473 208.96371459960938\n",
      "474 208.91851806640625\n",
      "475 208.87364196777344\n",
      "476 208.82864379882812\n",
      "477 208.78370666503906\n",
      "478 208.73890686035156\n",
      "479 208.6942596435547\n",
      "480 208.64967346191406\n",
      "481 208.60516357421875\n",
      "482 208.56060791015625\n",
      "483 208.5161590576172\n",
      "484 208.47157287597656\n",
      "485 208.42721557617188\n",
      "486 208.38270568847656\n",
      "487 208.33839416503906\n",
      "488 208.29391479492188\n",
      "489 208.24961853027344\n",
      "490 208.20523071289062\n",
      "491 208.16099548339844\n",
      "492 208.11685180664062\n",
      "493 208.07290649414062\n",
      "494 208.029052734375\n",
      "495 207.98492431640625\n",
      "496 207.9409637451172\n",
      "497 207.89706420898438\n",
      "498 207.8530731201172\n",
      "499 207.80908203125\n"
     ]
    }
   ],
   "source": [
    "# пример взят из официального туториала: \n",
    "# https://pytorch.org/tutorials/beginner/pytorch_with_examples.html\n",
    "\n",
    "# N - размер батча (batch_size, нужно для метода оптимизации); \n",
    "# D_in - размерность входа (количество признаков у объекта);\n",
    "# H - размерность скрытых слоёв; \n",
    "# D_out - размерность выходного слоя (суть - количество классов)\n",
    "N, D_in, H, D_out = 64, 2, 100, 3\n",
    "\n",
    "# Use the nn package to define our model and loss function.\n",
    "two_layer_net = torch.nn.Sequential(\n",
    "    torch.nn.Linear(D_in, H),\n",
    "    torch.nn.ReLU(),\n",
    "    torch.nn.Linear(H, D_out),\n",
    ")\n",
    "\n",
    "loss_fn = torch.nn.CrossEntropyLoss(size_average=False)\n",
    "\n",
    "learning_rate = 1e-4\n",
    "optimizer = torch.optim.SGD(two_layer_net.parameters(), lr=learning_rate)\n",
    "for t in range(500):\n",
    "    # forward\n",
    "    y_pred = two_layer_net(X)\n",
    "\n",
    "    # loss\n",
    "    loss = loss_fn(y_pred, y)\n",
    "    print('{} {}'.format(t, loss.data))\n",
    "\n",
    "    # ЗАНУЛЯЕМ!\n",
    "    optimizer.zero_grad()\n",
    "\n",
    "    # backward\n",
    "    loss.backward()\n",
    "\n",
    "    # ОБНОВЛЯЕМ! \n",
    "    optimizer.step()"
   ]
  },
  {
   "cell_type": "markdown",
   "metadata": {
    "colab_type": "text",
    "id": "zTQiN0bcYJd6"
   },
   "source": [
    "**Обратите внимание:** несмотря на то, что это задача 3-х классовой классификации и столбец $y$ нужно по-хорошему кодировать OneHotEncoding'ом, мы подали просто столбец из 0, 1 и 2 и всё отработало. Вывод - PyTorch сам делает OneHot в таком случае."
   ]
  },
  {
   "cell_type": "markdown",
   "metadata": {
    "colab_type": "text",
    "id": "apsWWq17YJd8"
   },
   "source": [
    "Проверим, насколько хороша наша сеть из 100 нейронов:"
   ]
  },
  {
   "cell_type": "code",
   "execution_count": 6,
   "metadata": {
    "colab": {},
    "colab_type": "code",
    "id": "X0ICB6Z-YJd-"
   },
   "outputs": [],
   "source": [
    "# Обратно в Numpy для отрисовки\n",
    "X = X.data.numpy()\n",
    "y = y.data.numpy()"
   ]
  },
  {
   "cell_type": "code",
   "execution_count": 7,
   "metadata": {
    "colab": {},
    "colab_type": "code",
    "id": "JvjfvgbPYJeB",
    "outputId": "cf5545ff-3315-45c9-c674-af44f63a346b"
   },
   "outputs": [
    {
     "data": {
      "image/png": "[encoded data removed]",
      "text/plain": [
       "<Figure size 720x576 with 1 Axes>"
      ]
     },
     "metadata": {
      "needs_background": "light"
     },
     "output_type": "display_data"
    }
   ],
   "source": [
    "# Отрисовочная магия, снова взято из:\n",
    "# http://cs231n.github.io/neural-networks-case-study/#linear\n",
    "\n",
    "h = 0.02\n",
    "x_min, x_max = X[:, 0].min() - 1, X[:, 0].max() + 1\n",
    "y_min, y_max = X[:, 1].min() - 1, X[:, 1].max() + 1\n",
    "\n",
    "xx, yy = np.meshgrid(np.arange(x_min, x_max, h),\n",
    "                     np.arange(y_min, y_max, h))\n",
    "grid_tensor = torch.FloatTensor(np.c_[xx.ravel(), yy.ravel()])\n",
    "\n",
    "Z = two_layer_net(torch.autograd.Variable(grid_tensor))\n",
    "Z = Z.data.numpy()\n",
    "Z = np.argmax(Z, axis=1)\n",
    "Z = Z.reshape(xx.shape)\n",
    "\n",
    "plt.figure(figsize=(10, 8))\n",
    "\n",
    "plt.contourf(xx, yy, Z, cmap=plt.cm.rainbow, alpha=0.3)\n",
    "plt.scatter(X[:, 0], X[:, 1], c=y, s=40, cmap=plt.cm.rainbow)\n",
    "\n",
    "plt.xlim(xx.min(), xx.max())\n",
    "plt.ylim(yy.min(), yy.max())\n",
    "\n",
    "plt.title('Игрушка дьявола', fontsize=15)\n",
    "plt.xlabel('$x$', fontsize=14)\n",
    "plt.ylabel('$y$', fontsize=14)\n",
    "plt.show();"
   ]
  },
  {
   "cell_type": "markdown",
   "metadata": {
    "colab_type": "text",
    "id": "I-LuUcmNYJeE"
   },
   "source": [
    "Качество не очень. Как же так, ведь мы использовали 100 нейронов? Разве их мало?"
   ]
  },
  {
   "cell_type": "markdown",
   "metadata": {
    "colab_type": "text",
    "id": "CUh5va_PYJeF"
   },
   "source": [
    "---"
   ]
  },
  {
   "cell_type": "markdown",
   "metadata": {
    "colab_type": "text",
    "id": "34q5qIBvYJeG"
   },
   "source": [
    "### Задача 2"
   ]
  },
  {
   "cell_type": "markdown",
   "metadata": {
    "colab_type": "text",
    "id": "G2wNgoh5YJeG"
   },
   "source": [
    "Улучшите сеть (помните про вещи, которые можно менять (см. Компоненты нейросети)). Экспериментируйте, в этом **вся суть deep learning** (и в том, чтобы рано или поздно сетка научилась экспериментировать за Вас :)"
   ]
  },
  {
   "cell_type": "code",
   "execution_count": 34,
   "metadata": {
    "colab": {},
    "colab_type": "code",
    "id": "ZYzvOiPgYJeH"
   },
   "outputs": [
    {
     "name": "stdout",
     "output_type": "stream",
     "text": [
      "torch.Size([300, 2]) torch.Size([300])\n"
     ]
    },
    {
     "data": {
      "image/png": "[encoded data removed]",
      "text/plain": [
       "<Figure size 720x576 with 1 Axes>"
      ]
     },
     "metadata": {
      "needs_background": "light"
     },
     "output_type": "display_data"
    }
   ],
   "source": [
    "import matplotlib.pyplot as plt\n",
    "import numpy as np\n",
    "import torch\n",
    "\n",
    "# Генерация и отрисовка датасета\n",
    "# код для генерации взят из Стэнфордсокго курса:\n",
    "# http://cs231n.github.io/neural-networks-case-study/#linear\n",
    "N = 100\n",
    "D = 2\n",
    "K = 3\n",
    "X = np.zeros((N * K, D))\n",
    "y = np.zeros(N * K, dtype='uint8')\n",
    "\n",
    "for j in range(K):\n",
    "    ix = range(N * j,N * (j + 1))\n",
    "    r = np.linspace(0.0, 1, N)\n",
    "    t = np.linspace(j * 4, (j + 1) * 4,N) + np.random.randn(N) * 0.2 # theta\n",
    "    X[ix] = np.c_[r * np.sin(t), r * np.cos(t)]\n",
    "    y[ix] = j\n",
    "    \n",
    "X = torch.autograd.Variable(torch.FloatTensor(X))\n",
    "y = torch.autograd.Variable(torch.LongTensor(y.astype(np.int64)))\n",
    "print(X.data.shape, y.data.shape)\n",
    "\n",
    "# пример взят из официального туториала: \n",
    "# https://pytorch.org/tutorials/beginner/pytorch_with_examples.html\n",
    "\n",
    "# N - размер батча (batch_size, нужно для метода оптимизации); \n",
    "# D_in - размерность входа (количество признаков у объекта);\n",
    "# H - размерность скрытых слоёв; \n",
    "# D_out - размерность выходного слоя (суть - количество классов)\n",
    "N, D_in, H, D_out = 64, 2, 100, 3\n",
    "\n",
    "# Use the nn package to define our model and loss function.\n",
    "two_layer_net = torch.nn.Sequential(\n",
    "    torch.nn.Linear(D_in, H),\n",
    " \n",
    "    torch.nn.Linear(H, H),\n",
    "    torch.nn.ReLU(),\n",
    "\n",
    "    torch.nn.Linear(H, H),\n",
    "    torch.nn.ReLU(),\n",
    "\n",
    "    #torch.nn.Linear(H, H),\n",
    "    #torch.nn.ReLU(),\n",
    "\n",
    "    torch.nn.Linear(H, D_out),\n",
    ")\n",
    "\n",
    "loss_fn = torch.nn.CrossEntropyLoss(size_average=False)\n",
    "\n",
    "learning_rate = 1e-4\n",
    "optimizer = torch.optim.SGD(two_layer_net.parameters(), lr=learning_rate)\n",
    "for t in range(1000):\n",
    "    # forward\n",
    "    y_pred = two_layer_net(X)\n",
    "\n",
    "    # loss\n",
    "    loss = loss_fn(y_pred, y)\n",
    "    #print('{} {}'.format(t, loss.data))\n",
    "\n",
    "    # ЗАНУЛЯЕМ!\n",
    "    optimizer.zero_grad()\n",
    "\n",
    "    # backward\n",
    "    loss.backward()\n",
    "\n",
    "    # ОБНОВЛЯЕМ! \n",
    "    optimizer.step()\n",
    "    \n",
    "    \n",
    "# Обратно в Numpy для отрисовки\n",
    "X = X.data.numpy()\n",
    "y = y.data.numpy()# Отрисовочная магия, снова взято из:\n",
    "# http://cs231n.github.io/neural-networks-case-study/#linear\n",
    "\n",
    "h = 0.02\n",
    "x_min, x_max = X[:, 0].min() - 1, X[:, 0].max() + 1\n",
    "y_min, y_max = X[:, 1].min() - 1, X[:, 1].max() + 1\n",
    "\n",
    "xx, yy = np.meshgrid(np.arange(x_min, x_max, h),\n",
    "                     np.arange(y_min, y_max, h))\n",
    "grid_tensor = torch.FloatTensor(np.c_[xx.ravel(), yy.ravel()])\n",
    "\n",
    "Z = two_layer_net(torch.autograd.Variable(grid_tensor))\n",
    "Z = Z.data.numpy()\n",
    "Z = np.argmax(Z, axis=1)\n",
    "Z = Z.reshape(xx.shape)\n",
    "\n",
    "plt.figure(figsize=(10, 8))\n",
    "\n",
    "plt.contourf(xx, yy, Z, cmap=plt.cm.rainbow, alpha=0.3)\n",
    "plt.scatter(X[:, 0], X[:, 1], c=y, s=40, cmap=plt.cm.rainbow)\n",
    "\n",
    "plt.xlim(xx.min(), xx.max())\n",
    "plt.ylim(yy.min(), yy.max())\n",
    "\n",
    "plt.title('Игрушка дьявола', fontsize=15)\n",
    "plt.xlabel('$x$', fontsize=14)\n",
    "plt.ylabel('$y$', fontsize=14)\n",
    "plt.show();"
   ]
  },
  {
   "cell_type": "markdown",
   "metadata": {
    "colab_type": "text",
    "id": "6N_9wfvPYJeK"
   },
   "source": [
    "---"
   ]
  },
  {
   "cell_type": "markdown",
   "metadata": {
    "colab_type": "text",
    "id": "H_thmQJOYJeK"
   },
   "source": [
    "<h3 style=\"text-align: center;\"><b>Полезные ссылки</b></h3>"
   ]
  },
  {
   "cell_type": "markdown",
   "metadata": {
    "colab_type": "text",
    "id": "RpSrLf9FYJeL"
   },
   "source": [
    "1). *Примеры написания нейросетей на PyTorch (официальные туториалы) (на английском): https://pytorch.org/tutorials/beginner/pytorch_with_examples.html#examples  \n",
    "https://pytorch.org/tutorials/beginner/blitz/cifar10_tutorial.html*\n",
    "\n",
    "2). ***Один из самых подробных и полных курсов по deep learning на данный момент - это курс Стэнфордского Университета (он вообще сейчас один из лидеров в области ИИ, его выпускники работают в Google, Facebook, Amazon, Microsoft, в стартапах в Кремниевой долине):  http://cs231n.github.io/***  \n",
    "\n",
    "3). Практически исчерпывающая информация по основам нейросетей (из cs231n) (на английском):  \n",
    "\n",
    "http://cs231n.github.io/neural-networks-1/,  \n",
    "http://cs231n.github.io/neural-networks-2/,  \n",
    "http://cs231n.github.io/neural-networks-3/,  \n",
    "http://cs231n.github.io/neural-networks-case-study/#linear\n",
    "\n",
    "4). *Хорошие статьи по основам нейросетей (на английском):  http://neuralnetworksanddeeplearning.com/chap1.html*\n",
    "\n",
    "5). *Наглядная демонстрация того, как обучаются нейросети:  https://cs.stanford.edu/people/karpathy/convnetjs/*"
   ]
  },
  {
   "cell_type": "markdown",
   "metadata": {
    "colab_type": "text",
    "id": "1Qldb1U5YJeM"
   },
   "source": [
    "6). *Подробнее про backprop -- статья на Medium: https://medium.com/autonomous-agents/backpropagation-how-neural-networks-learn-complex-behaviors-9572ac161670*"
   ]
  },
  {
   "cell_type": "markdown",
   "metadata": {
    "colab_type": "text",
    "id": "g1HSslRhYJeN"
   },
   "source": [
    "7). *Статья из интернет по Backprop: http://page.mi.fu-berlin.de/rojas/neural/chapter/K7.pdf*"
   ]
  }
 ],
 "metadata": {
  "colab": {
   "collapsed_sections": [],
   "name": "[seminar]mlp_pytorch.ipynb",
   "provenance": [],
   "version": "0.3.2"
  },
  "kernelspec": {
   "display_name": "Python 3",
   "language": "python",
   "name": "python3"
  },
  "language_info": {
   "codemirror_mode": {
    "name": "ipython",
    "version": 3
   },
   "file_extension": ".py",
   "mimetype": "text/x-python",
   "name": "python",
   "nbconvert_exporter": "python",
   "pygments_lexer": "ipython3",
   "version": "3.7.2"
  }
 },
 "nbformat": 4,
 "nbformat_minor": 1
}
