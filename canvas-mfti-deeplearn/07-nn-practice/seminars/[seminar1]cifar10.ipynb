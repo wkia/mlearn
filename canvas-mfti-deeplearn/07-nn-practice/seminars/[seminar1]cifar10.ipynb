{
 "cells": [
  {
   "cell_type": "markdown",
   "metadata": {
    "colab_type": "text",
    "id": "_r-8MXaKSG9d"
   },
   "source": [
    "<img src=\"https://s8.hostingkartinok.com/uploads/images/2018/08/308b49fcfbc619d629fe4604bceb67ac.jpg\" width=500, height=450>\n",
    "<h3 style=\"text-align: center;\"><b>Физтех-Школа Прикладной математики и информатики (ФПМИ) МФТИ</b></h3>"
   ]
  },
  {
   "cell_type": "markdown",
   "metadata": {
    "colab_type": "text",
    "id": "hTtqQW3_SG9e"
   },
   "source": [
    "---"
   ]
  },
  {
   "cell_type": "markdown",
   "metadata": {
    "colab_type": "text",
    "id": "DEzYTtieSG9f"
   },
   "source": [
    "<h2 style=\"text-align: center;\"><b>Семинар 1: практическое занятие по обучению нейросетей (датасет CIFAR10)</b></h2>"
   ]
  },
  {
   "cell_type": "markdown",
   "metadata": {
    "colab_type": "text",
    "id": "YBkv6rWuSG9g"
   },
   "source": [
    "---"
   ]
  },
  {
   "cell_type": "code",
   "execution_count": 48,
   "metadata": {
    "colab": {},
    "colab_type": "code",
    "id": "Hgit3qqOf4hd"
   },
   "outputs": [],
   "source": [
    "import numpy as np\n",
    "import matplotlib.pyplot as plt\n",
    "\n",
    "from tqdm import tqdm_notebook\n",
    "\n",
    "import warnings\n",
    "warnings.filterwarnings(\"ignore\")\n",
    "\n",
    "import multiprocessing"
   ]
  },
  {
   "cell_type": "markdown",
   "metadata": {
    "colab_type": "text",
    "id": "CHUKPJJOf4hj"
   },
   "source": [
    "Сегодня мы построим свою сеть (простейший классификатор изображений), посчитаем loss и проведем обновление весов.\n",
    "\n",
    "\n",
    "Данные\n",
    "----------------\n",
    "Мы будем работать с набором картинок. Для работы с ними есть специальный пакет ``torchvision``. В нем уже содержатся функции-загрузчики таких датасетов, как ImageNet, MNIST, CIFAR10. С последним сегодня мы и будем работать. В нем содержатся картинки RGB 32х32 следующих классов: \n",
    "1. ‘airplane’\n",
    "2. ‘automobile’\n",
    "3. ‘bird’\n",
    "4. ‘cat’\n",
    "5. ‘deer’\n",
    "6. ‘dog’\n",
    "7. ‘frog’\n",
    "8. ‘horse’\n",
    "9. ‘ship’\n",
    "10. ‘truck’\n",
    "\n",
    "Обучение классификатора\n",
    "----------------------------\n",
    "\n",
    "План обучения классификатора:\n",
    "\n",
    "1. Загружаем и нормализуем данные при помощи пакета\n",
    "   ``torchvision``\n",
    "2. Объявляем нейронную сети\n",
    "3. Объявляем функцию потерь\n",
    "4. Тренируем сеть при помощи тренировочной выборки (train data)\n",
    "5. Тестируем сеть при помощи валидационной выборки (test data)\n",
    "\n",
    "----------------------------\n",
    "\n",
    "Импортируем нужные нам пакеты из библиотеки ``torch``\n",
    "\n",
    "\n"
   ]
  },
  {
   "cell_type": "code",
   "execution_count": 49,
   "metadata": {
    "colab": {},
    "colab_type": "code",
    "id": "E6h4kZ-if4hl"
   },
   "outputs": [],
   "source": [
    "import torch\n",
    "import torchvision\n",
    "from torch.autograd import Variable\n",
    "import torchvision.transforms as transforms"
   ]
  },
  {
   "cell_type": "code",
   "execution_count": 51,
   "metadata": {
    "colab": {},
    "colab_type": "code",
    "id": "5KmxZQREgApi"
   },
   "outputs": [],
   "source": [
    "# http://pytorch.org/\n",
    "from os.path import exists\n",
    "from wheel.pep425tags import get_abbr_impl, get_impl_ver, get_abi_tag\n",
    "platform = '{}{}-{}'.format(get_abbr_impl(), get_impl_ver(), get_abi_tag())\n",
    "cuda_output = !ldconfig -p|grep cudart.so|sed -e 's/.*\\.\\([0-9]*\\)\\.\\([0-9]*\\)$/cu\\1\\2/'\n",
    "accelerator = cuda_output[0] if exists('/dev/nvidia0') else 'cpu'\n",
    "\n",
    "#!pip install -q http://download.pytorch.org/whl/{accelerator}/torch-0.4.1-{platform}-linux_x86_64.whl torchvision\n",
    "import torch"
   ]
  },
  {
   "cell_type": "markdown",
   "metadata": {
    "colab_type": "text",
    "id": "aHKBkoJPf4hp"
   },
   "source": [
    "В результате загрузки датасетов при помощи пакета torchvision мы получим картинки, содержащие значения в диапазоне [0,1], чтобы подавать их в нейросеть, нам нужно сделать из них тензоры со значениями в диапазоне [-1,1]\n",
    "\n",
    "Определим презобразование:"
   ]
  },
  {
   "cell_type": "code",
   "execution_count": 52,
   "metadata": {
    "colab": {},
    "colab_type": "code",
    "id": "GJeKQk9nf4hq"
   },
   "outputs": [],
   "source": [
    "transform = transforms.Compose(\n",
    "    \n",
    "[\n",
    "    transforms.ToTensor(),\n",
    "    transforms.Normalize((0.5, 0.5, 0.5), (0.5, 0.5, 0.5))\n",
    "]\n",
    "\n",
    ")"
   ]
  },
  {
   "cell_type": "markdown",
   "metadata": {
    "colab_type": "text",
    "id": "hNOgh6Obf4hx"
   },
   "source": [
    "Теперь вызовем загрузчики из пакета ``torchvision`` и скачаем обучающую выборку (trainset) и валидационную (testset)\n",
    "\n"
   ]
  },
  {
   "cell_type": "code",
   "execution_count": 56,
   "metadata": {
    "colab": {
     "base_uri": "https://localhost:8080/",
     "height": 114
    },
    "colab_type": "code",
    "executionInfo": {
     "elapsed": 9179,
     "status": "ok",
     "timestamp": 1541256926486,
     "user": {
      "displayName": "Deep Learning School",
      "photoUrl": "https://lh6.googleusercontent.com/-pCAqm81DR_s/AAAAAAAAAAI/AAAAAAAAAMk/4cGT0s91JQs/s64/photo.jpg",
      "userId": "16549096980415837553"
     },
     "user_tz": -180
    },
    "id": "Vvub5ZZdf4hz",
    "outputId": "1d34691b-8365-4e8d-b781-1fdb4d9750f0",
    "scrolled": false
   },
   "outputs": [
    {
     "name": "stdout",
     "output_type": "stream",
     "text": [
      "Files already downloaded and verified\n",
      "Files already downloaded and verified\n"
     ]
    }
   ],
   "source": [
    "trainset = torchvision.datasets.CIFAR10(root='./data', \n",
    "                                        train=True,download=True, transform=transform)\n",
    "train_loader = torch.utils.data.DataLoader(trainset, batch_size=4,\n",
    "                                           shuffle=True, num_workers=0, pin_memory=False)\n",
    "\n",
    "testset = torchvision.datasets.CIFAR10(root='./data', train=False, \n",
    "                                       download=True, transform=transform)\n",
    "validation_loader = torch.utils.data.DataLoader(testset, batch_size=4,\n",
    "                                                shuffle=False, num_workers=0, pin_memory=False)"
   ]
  },
  {
   "cell_type": "markdown",
   "metadata": {
    "colab_type": "text",
    "id": "DsFyaka7f4h5"
   },
   "source": [
    "Определим константы"
   ]
  },
  {
   "cell_type": "code",
   "execution_count": 57,
   "metadata": {
    "colab": {},
    "colab_type": "code",
    "id": "UnfKGICOf4h6"
   },
   "outputs": [],
   "source": [
    "IMAGE_WIDTH = 32\n",
    "IMAGE_HEIGHT = 32\n",
    "COLOR_CHANNELS = 3\n",
    "EPOCHS = 50\n",
    "LEARNING_RATE = 0.001\n",
    "BATCH_SIZE = 32\n",
    "BATCH_IMAGE_COUNT = 10000\n",
    "CLASSES = ['plane', 'car', 'bird', 'cat', 'deer', 'dog', 'frog', 'horse', 'ship', 'truck']\n",
    "N_CLASSES = len(CLASSES)\n",
    "PLOT = False"
   ]
  },
  {
   "cell_type": "code",
   "execution_count": 58,
   "metadata": {
    "colab": {
     "base_uri": "https://localhost:8080/",
     "height": 204
    },
    "colab_type": "code",
    "executionInfo": {
     "elapsed": 1080,
     "status": "ok",
     "timestamp": 1541259191860,
     "user": {
      "displayName": "Deep Learning School",
      "photoUrl": "https://lh6.googleusercontent.com/-pCAqm81DR_s/AAAAAAAAAAI/AAAAAAAAAMk/4cGT0s91JQs/s64/photo.jpg",
      "userId": "16549096980415837553"
     },
     "user_tz": -180
    },
    "id": "mNWymneYf4h-",
    "outputId": "80c3943a-b7af-46ea-f7ab-23c5c5c6c660"
   },
   "outputs": [
    {
     "name": "stdout",
     "output_type": "stream",
     "text": [
      " ship plane   car plane\n"
     ]
    },
    {
     "data": {
      "image/png": "[encoded data removed]",
      "text/plain": [
       "<Figure size 432x288 with 1 Axes>"
      ]
     },
     "metadata": {
      "needs_background": "light"
     },
     "output_type": "display_data"
    }
   ],
   "source": [
    "import matplotlib.pyplot as plt\n",
    "import numpy as np\n",
    "\n",
    "# Функция, которая показывает изображения\n",
    "def imshow(img):\n",
    "    img = img / 2 + 0.5     # деномрировка\n",
    "    npimg = img.numpy()\n",
    "    plt.imshow(np.transpose(npimg, (1, 2, 0)))\n",
    "\n",
    "\n",
    "# достаем случайные картинки из обучающей выборки\n",
    "dataiter = iter(train_loader)\n",
    "images, labels = dataiter.next()\n",
    "\n",
    "# вызываем функцию, реализующую демонстрацию изображений, что мы можем видеть на них?\n",
    "imshow(torchvision.utils.make_grid(images))\n",
    "# выведем метки классов отрисованных изображений\n",
    "print(' '.join('%5s' % CLASSES[labels[j]] for j in range(4)))"
   ]
  },
  {
   "cell_type": "code",
   "execution_count": 71,
   "metadata": {
    "colab": {},
    "colab_type": "code",
    "id": "wysy5qO2f4iC"
   },
   "outputs": [],
   "source": [
    "class Net(torch.nn.Module):\n",
    "    def __init__(self, n_hidden_nodes, n_hidden_layers):\n",
    "        super(Net, self).__init__()\n",
    "        # Определяем слои\n",
    "        self.fc1 = torch.nn.Linear(IMAGE_WIDTH * IMAGE_WIDTH * COLOR_CHANNELS,\n",
    "                                   n_hidden_nodes)\n",
    "#         self.n_hidden_nodes=n_hidden_nodes\n",
    "#         self.n_hidden_layers=n_hidden_layers\n",
    "\n",
    "        self.out = torch.nn.Linear(n_hidden_nodes, N_CLASSES)\n",
    "\n",
    "    def forward(self, x):\n",
    "        x = x.view(-1, IMAGE_WIDTH * IMAGE_WIDTH * COLOR_CHANNELS)\n",
    "        # определяем функцию активации\n",
    "        sigmoid = torch.nn.Sigmoid()\n",
    "        x = sigmoid(self.fc1(x))\n",
    "        return torch.nn.functional.log_softmax(self.out(x))"
   ]
  },
  {
   "cell_type": "code",
   "execution_count": 72,
   "metadata": {
    "colab": {},
    "colab_type": "code",
    "id": "sdi5bYJaf4iF"
   },
   "outputs": [],
   "source": [
    "def train(epoch, model, train_loader, optimizer, log_interval=100, cuda=None):\n",
    "    model.train()\n",
    "    correct = 0\n",
    "    for batch_idx, (data, target) in enumerate(train_loader):\n",
    "        data, target = Variable(data), Variable(target)\n",
    "        optimizer.zero_grad()\n",
    "        output = model(data)\n",
    "\n",
    "        pred = output.data.max(1)[1] # get the index of the max log-probability\n",
    "        correct += pred.eq(target.data).cpu().sum()\n",
    "        accuracy = 100. * correct / len(train_loader.dataset)\n",
    "        \n",
    "        \n",
    "        loss = torch.nn.functional.nll_loss(output, target)\n",
    "        loss.backward()\n",
    "        optimizer.step()\n",
    "        if batch_idx % 10000 == 0:\n",
    "            print('Train Epoch: {} [{}/{} ({:.0f}%)]\\tLoss: {:.6f}'.format(\n",
    "                epoch, batch_idx * len(data), len(train_loader.dataset),\n",
    "                100. * batch_idx / len(train_loader), loss.data.item(), accuracy))\n"
   ]
  },
  {
   "cell_type": "code",
   "execution_count": 73,
   "metadata": {
    "colab": {},
    "colab_type": "code",
    "id": "_MB7us3sf4iI"
   },
   "outputs": [],
   "source": [
    "def validate(loss_vector, accuracy_vector, model, validation_loader, cuda=None):\n",
    "    model.eval()\n",
    "    val_loss, correct = 0, 0\n",
    "    for data, target in validation_loader:\n",
    "        if cuda:\n",
    "            data, target = data.cuda(), target.cuda()\n",
    "        data, target = Variable(data, volatile=True), Variable(target)\n",
    "        output = model(data)\n",
    "        val_loss += torch.nn.functional.nll_loss(output, target).data.item()\n",
    "        pred = output.data.max(1)[1] # get the index of the max log-probability\n",
    "        correct += pred.eq(target.data).cpu().sum()\n",
    "\n",
    "    val_loss /= len(validation_loader)\n",
    "    loss_vector.append(val_loss)\n",
    "\n",
    "    accuracy = 100. * correct / len(validation_loader.dataset)\n",
    "    accuracy_vector.append(accuracy)\n",
    "\n",
    "    print('\\nValidation set: Average loss: {:.4f}, Accuracy: {}/{} ({:.0f}%)\\n'.format(\n",
    "        val_loss, correct, len(validation_loader.dataset), accuracy))"
   ]
  },
  {
   "cell_type": "code",
   "execution_count": 74,
   "metadata": {
    "colab": {},
    "colab_type": "code",
    "id": "5Ta4nX1Uf4iK"
   },
   "outputs": [],
   "source": [
    "from tqdm import tqdm_notebook"
   ]
  },
  {
   "cell_type": "code",
   "execution_count": 0,
   "metadata": {
    "colab": {
     "base_uri": "https://localhost:8080/",
     "height": 3417
    },
    "colab_type": "code",
    "id": "HcykLY4af4iM",
    "outputId": "9fc038b6-d1bc-4050-b6da-06f01613190c"
   },
   "outputs": [
    {
     "name": "stdout",
     "output_type": "stream",
     "text": [
      "Train Epoch: 1 [0/50000 (0%)]\tLoss: 2.280676\n",
      "Train Epoch: 1 [40000/50000 (80%)]\tLoss: 1.914732\n",
      "\n",
      "Validation set: Average loss: 2.0466, Accuracy: 2958/10000 (29%)\n",
      "\n",
      "Train Epoch: 2 [0/50000 (0%)]\tLoss: 2.179598\n",
      "Train Epoch: 2 [40000/50000 (80%)]\tLoss: 1.652516\n",
      "\n",
      "Validation set: Average loss: 1.9539, Accuracy: 3169/10000 (31%)\n",
      "\n",
      "Train Epoch: 3 [0/50000 (0%)]\tLoss: 2.011090\n",
      "Train Epoch: 3 [40000/50000 (80%)]\tLoss: 1.491545\n",
      "\n",
      "Validation set: Average loss: 1.9037, Accuracy: 3372/10000 (33%)\n",
      "\n",
      "Train Epoch: 4 [0/50000 (0%)]\tLoss: 1.427091\n",
      "Train Epoch: 4 [40000/50000 (80%)]\tLoss: 1.998777\n",
      "\n",
      "Validation set: Average loss: 1.8686, Accuracy: 3473/10000 (34%)\n",
      "\n",
      "Train Epoch: 5 [0/50000 (0%)]\tLoss: 1.828201\n",
      "Train Epoch: 5 [40000/50000 (80%)]\tLoss: 1.832490\n",
      "\n",
      "Validation set: Average loss: 1.8426, Accuracy: 3544/10000 (35%)\n",
      "\n",
      "Train Epoch: 6 [0/50000 (0%)]\tLoss: 2.105319\n",
      "Train Epoch: 6 [40000/50000 (80%)]\tLoss: 1.861091\n",
      "\n",
      "Validation set: Average loss: 1.8188, Accuracy: 3633/10000 (36%)\n",
      "\n",
      "Train Epoch: 7 [0/50000 (0%)]\tLoss: 2.280227\n",
      "Train Epoch: 7 [40000/50000 (80%)]\tLoss: 1.207959\n",
      "\n",
      "Validation set: Average loss: 1.7985, Accuracy: 3756/10000 (37%)\n",
      "\n",
      "Train Epoch: 8 [0/50000 (0%)]\tLoss: 1.307640\n",
      "Train Epoch: 8 [40000/50000 (80%)]\tLoss: 1.080971\n",
      "\n",
      "Validation set: Average loss: 1.7816, Accuracy: 3793/10000 (37%)\n",
      "\n",
      "Train Epoch: 9 [0/50000 (0%)]\tLoss: 1.728275\n",
      "Train Epoch: 9 [40000/50000 (80%)]\tLoss: 2.117968\n",
      "\n",
      "Validation set: Average loss: 1.7679, Accuracy: 3852/10000 (38%)\n",
      "\n",
      "Train Epoch: 10 [0/50000 (0%)]\tLoss: 1.663116\n",
      "Train Epoch: 10 [40000/50000 (80%)]\tLoss: 1.705373\n",
      "\n",
      "Validation set: Average loss: 1.7548, Accuracy: 3858/10000 (38%)\n",
      "\n",
      "Train Epoch: 11 [0/50000 (0%)]\tLoss: 1.591501\n",
      "Train Epoch: 11 [40000/50000 (80%)]\tLoss: 2.464421\n",
      "\n",
      "Validation set: Average loss: 1.7429, Accuracy: 3894/10000 (38%)\n",
      "\n",
      "Train Epoch: 12 [0/50000 (0%)]\tLoss: 1.031980\n",
      "Train Epoch: 12 [40000/50000 (80%)]\tLoss: 1.960149\n",
      "\n",
      "Validation set: Average loss: 1.7338, Accuracy: 3959/10000 (39%)\n",
      "\n",
      "Train Epoch: 13 [0/50000 (0%)]\tLoss: 1.444980\n",
      "Train Epoch: 13 [40000/50000 (80%)]\tLoss: 1.929490\n",
      "\n",
      "Validation set: Average loss: 1.7251, Accuracy: 3976/10000 (39%)\n",
      "\n",
      "Train Epoch: 14 [0/50000 (0%)]\tLoss: 1.802132\n",
      "Train Epoch: 14 [40000/50000 (80%)]\tLoss: 1.397912\n",
      "\n",
      "Validation set: Average loss: 1.7183, Accuracy: 3991/10000 (39%)\n",
      "\n",
      "Train Epoch: 15 [0/50000 (0%)]\tLoss: 1.508636\n",
      "Train Epoch: 15 [40000/50000 (80%)]\tLoss: 1.633821\n",
      "\n",
      "Validation set: Average loss: 1.7125, Accuracy: 4000/10000 (40%)\n",
      "\n",
      "Train Epoch: 16 [0/50000 (0%)]\tLoss: 2.143724\n",
      "Train Epoch: 16 [40000/50000 (80%)]\tLoss: 2.982486\n",
      "\n",
      "Validation set: Average loss: 1.7082, Accuracy: 4033/10000 (40%)\n",
      "\n",
      "Train Epoch: 17 [0/50000 (0%)]\tLoss: 1.475159\n",
      "Train Epoch: 17 [40000/50000 (80%)]\tLoss: 1.783137\n",
      "\n",
      "Validation set: Average loss: 1.7046, Accuracy: 4056/10000 (40%)\n",
      "\n",
      "Train Epoch: 18 [0/50000 (0%)]\tLoss: 1.555734\n",
      "Train Epoch: 18 [40000/50000 (80%)]\tLoss: 1.357413\n",
      "\n",
      "Validation set: Average loss: 1.6968, Accuracy: 4084/10000 (40%)\n",
      "\n",
      "Train Epoch: 19 [0/50000 (0%)]\tLoss: 1.810301\n",
      "Train Epoch: 19 [40000/50000 (80%)]\tLoss: 1.348927\n",
      "\n",
      "Validation set: Average loss: 1.6943, Accuracy: 4057/10000 (40%)\n",
      "\n",
      "Train Epoch: 20 [0/50000 (0%)]\tLoss: 3.238169\n",
      "Train Epoch: 20 [40000/50000 (80%)]\tLoss: 2.640553\n",
      "\n",
      "Validation set: Average loss: 1.6918, Accuracy: 4073/10000 (40%)\n",
      "\n",
      "Train Epoch: 21 [0/50000 (0%)]\tLoss: 1.110385\n",
      "Train Epoch: 21 [40000/50000 (80%)]\tLoss: 2.109142\n",
      "\n",
      "Validation set: Average loss: 1.6895, Accuracy: 4065/10000 (40%)\n",
      "\n",
      "Train Epoch: 22 [0/50000 (0%)]\tLoss: 1.690382\n",
      "Train Epoch: 22 [40000/50000 (80%)]\tLoss: 2.111606\n",
      "\n",
      "Validation set: Average loss: 1.6839, Accuracy: 4088/10000 (40%)\n",
      "\n",
      "Train Epoch: 23 [0/50000 (0%)]\tLoss: 2.177018\n",
      "Train Epoch: 23 [40000/50000 (80%)]\tLoss: 1.502292\n",
      "\n",
      "Validation set: Average loss: 1.6814, Accuracy: 4110/10000 (41%)\n",
      "\n",
      "Train Epoch: 24 [0/50000 (0%)]\tLoss: 2.179522\n",
      "Train Epoch: 24 [40000/50000 (80%)]\tLoss: 1.761036\n",
      "\n",
      "Validation set: Average loss: 1.6821, Accuracy: 4088/10000 (40%)\n",
      "\n",
      "Train Epoch: 25 [0/50000 (0%)]\tLoss: 2.020828\n",
      "Train Epoch: 25 [40000/50000 (80%)]\tLoss: 1.026161\n",
      "\n",
      "Validation set: Average loss: 1.6781, Accuracy: 4098/10000 (40%)\n",
      "\n",
      "Train Epoch: 26 [0/50000 (0%)]\tLoss: 1.368582\n",
      "Train Epoch: 26 [40000/50000 (80%)]\tLoss: 1.424222\n",
      "\n",
      "Validation set: Average loss: 1.6779, Accuracy: 4116/10000 (41%)\n",
      "\n",
      "Train Epoch: 27 [0/50000 (0%)]\tLoss: 0.825662\n",
      "Train Epoch: 27 [40000/50000 (80%)]\tLoss: 1.744676\n",
      "\n",
      "Validation set: Average loss: 1.6763, Accuracy: 4097/10000 (40%)\n",
      "\n",
      "Train Epoch: 28 [0/50000 (0%)]\tLoss: 1.317193\n",
      "Train Epoch: 28 [40000/50000 (80%)]\tLoss: 2.784461\n",
      "\n",
      "Validation set: Average loss: 1.6739, Accuracy: 4120/10000 (41%)\n",
      "\n",
      "Train Epoch: 29 [0/50000 (0%)]\tLoss: 2.183274\n",
      "Train Epoch: 29 [40000/50000 (80%)]\tLoss: 2.081544\n",
      "\n",
      "Validation set: Average loss: 1.6709, Accuracy: 4137/10000 (41%)\n",
      "\n",
      "Train Epoch: 30 [0/50000 (0%)]\tLoss: 1.743491\n",
      "Train Epoch: 30 [40000/50000 (80%)]\tLoss: 1.185656\n",
      "\n",
      "Validation set: Average loss: 1.6724, Accuracy: 4122/10000 (41%)\n",
      "\n",
      "Train Epoch: 31 [0/50000 (0%)]\tLoss: 1.174509\n",
      "Train Epoch: 31 [40000/50000 (80%)]\tLoss: 1.563097\n",
      "\n",
      "Validation set: Average loss: 1.6693, Accuracy: 4127/10000 (41%)\n",
      "\n",
      "Train Epoch: 32 [0/50000 (0%)]\tLoss: 1.103121\n",
      "Train Epoch: 32 [40000/50000 (80%)]\tLoss: 2.065120\n",
      "\n",
      "Validation set: Average loss: 1.6678, Accuracy: 4122/10000 (41%)\n",
      "\n",
      "Train Epoch: 33 [0/50000 (0%)]\tLoss: 1.379397\n",
      "Train Epoch: 33 [40000/50000 (80%)]\tLoss: 1.791361\n",
      "\n",
      "Validation set: Average loss: 1.6663, Accuracy: 4161/10000 (41%)\n",
      "\n",
      "Train Epoch: 34 [0/50000 (0%)]\tLoss: 1.101352\n",
      "Train Epoch: 34 [40000/50000 (80%)]\tLoss: 1.583428\n",
      "\n",
      "Validation set: Average loss: 1.6672, Accuracy: 4134/10000 (41%)\n",
      "\n",
      "Train Epoch: 35 [0/50000 (0%)]\tLoss: 1.890008\n",
      "Train Epoch: 35 [40000/50000 (80%)]\tLoss: 1.198529\n",
      "\n",
      "Validation set: Average loss: 1.6650, Accuracy: 4143/10000 (41%)\n",
      "\n",
      "Train Epoch: 36 [0/50000 (0%)]\tLoss: 2.190583\n",
      "Train Epoch: 36 [40000/50000 (80%)]\tLoss: 1.770047\n",
      "\n",
      "Validation set: Average loss: 1.6654, Accuracy: 4137/10000 (41%)\n",
      "\n",
      "Train Epoch: 37 [0/50000 (0%)]\tLoss: 1.416061\n",
      "Train Epoch: 37 [40000/50000 (80%)]\tLoss: 1.961591\n",
      "\n",
      "Validation set: Average loss: 1.6635, Accuracy: 4141/10000 (41%)\n",
      "\n",
      "Train Epoch: 38 [0/50000 (0%)]\tLoss: 1.322011\n",
      "Train Epoch: 38 [40000/50000 (80%)]\tLoss: 1.742910\n",
      "\n",
      "Validation set: Average loss: 1.6630, Accuracy: 4157/10000 (41%)\n",
      "\n",
      "Train Epoch: 39 [0/50000 (0%)]\tLoss: 1.409739\n",
      "Train Epoch: 39 [40000/50000 (80%)]\tLoss: 1.196867\n",
      "\n",
      "Validation set: Average loss: 1.6634, Accuracy: 4109/10000 (41%)\n",
      "\n",
      "Train Epoch: 40 [0/50000 (0%)]\tLoss: 0.722092\n",
      "Train Epoch: 40 [40000/50000 (80%)]\tLoss: 1.533110\n",
      "\n",
      "Validation set: Average loss: 1.6629, Accuracy: 4143/10000 (41%)\n",
      "\n"
     ]
    }
   ],
   "source": [
    "hidden_nodes = 10\n",
    "layers = 1\n",
    "model = Net(hidden_nodes, layers)\n",
    "optimizer = torch.optim.SGD(model.parameters(), lr=LEARNING_RATE)\n",
    "loss_vector = []\n",
    "acc_vector = []\n",
    "for epoch in range(1, EPOCHS + 1):\n",
    "    train(epoch, model, train_loader, optimizer, cuda=cuda)\n",
    "    validate(loss_vector, acc_vector, model, validation_loader, cuda=cuda)\n",
    "    if epoch == 40:\n",
    "        break"
   ]
  },
  {
   "cell_type": "markdown",
   "metadata": {
    "colab_type": "text",
    "id": "eLhItbeMf4iO"
   },
   "source": [
    "Итак, мы обучили нашу сеть проходами по обучающей выборке. Давайте проверим, обучилась ли наша сеть. Проверим это путем предсказания меток классов для валидационной выборки."
   ]
  },
  {
   "cell_type": "code",
   "execution_count": 63,
   "metadata": {
    "colab": {
     "base_uri": "https://localhost:8080/",
     "height": 361
    },
    "colab_type": "code",
    "id": "cuELsbq3f4iP",
    "outputId": "5e746be0-1e6f-4224-eca2-e6e4d1df8ac1"
   },
   "outputs": [
    {
     "data": {
      "image/png": "[encoded data removed]",
      "text/plain": [
       "<Figure size 432x288 with 1 Axes>"
      ]
     },
     "metadata": {
      "needs_background": "light"
     },
     "output_type": "display_data"
    }
   ],
   "source": [
    "# Plot train loss and validation accuracy vs epochs for each learning rate\n",
    "epochs = [i for i in range(1, 41)]\n",
    "plt.plot(epochs, loss_vector)\n",
    "plt.xlabel(\"Epochs\")\n",
    "plt.ylabel(\"Loss\")\n",
    "plt.show()"
   ]
  },
  {
   "cell_type": "code",
   "execution_count": 64,
   "metadata": {
    "colab": {
     "base_uri": "https://localhost:8080/",
     "height": 184
    },
    "colab_type": "code",
    "id": "IDJfSHQif4iR",
    "outputId": "9954aef3-ee83-407a-8cce-b15d5c9c9552"
   },
   "outputs": [
    {
     "name": "stdout",
     "output_type": "stream",
     "text": [
      "GroundTruth:    cat  ship  ship plane\n"
     ]
    },
    {
     "data": {
      "image/png": "[encoded data removed]",
      "text/plain": [
       "<Figure size 432x288 with 1 Axes>"
      ]
     },
     "metadata": {
      "needs_background": "light"
     },
     "output_type": "display_data"
    }
   ],
   "source": [
    "dataiter = iter(validation_loader)\n",
    "images, labels = dataiter.next()\n",
    "\n",
    "# выведем наши предсказания\n",
    "imshow(torchvision.utils.make_grid(images))\n",
    "print('GroundTruth: ', ' '.join('%5s' % CLASSES[labels[j]] for j in range(4)))\n",
    "\n",
    "outputs=model(images)"
   ]
  },
  {
   "cell_type": "code",
   "execution_count": 75,
   "metadata": {
    "colab": {
     "base_uri": "https://localhost:8080/",
     "height": 34
    },
    "colab_type": "code",
    "id": "1Bt-VRMvf4iU",
    "outputId": "beadd68f-1b05-49e0-f3f9-abd62e1b4f1f"
   },
   "outputs": [
    {
     "name": "stdout",
     "output_type": "stream",
     "text": [
      "Predicted:    dog   dog   dog horse\n"
     ]
    }
   ],
   "source": [
    "_, predicted = torch.max(outputs, 1)\n",
    "\n",
    "print('Predicted: ', ' '.join('%5s' % CLASSES[predicted[j]]\n",
    "                              for j in range(4)))"
   ]
  },
  {
   "cell_type": "markdown",
   "metadata": {
    "colab_type": "text",
    "id": "FQYwDNB_f4iW"
   },
   "source": [
    "Протестируем на всем тесте:"
   ]
  },
  {
   "cell_type": "code",
   "execution_count": 76,
   "metadata": {
    "colab": {
     "base_uri": "https://localhost:8080/",
     "height": 34
    },
    "colab_type": "code",
    "id": "6ZD9Lxi1f4iX",
    "outputId": "d02c4568-9080-467f-d276-5ecb208fc38a"
   },
   "outputs": [
    {
     "name": "stdout",
     "output_type": "stream",
     "text": [
      "Accuracy of the network on the 10000 test images: 10 %\n"
     ]
    }
   ],
   "source": [
    "correct = 0\n",
    "total = 0\n",
    "with torch.no_grad():\n",
    "    for data in validation_loader:\n",
    "        images, labels = data\n",
    "        outputs = model(images)\n",
    "        _, predicted = torch.max(outputs.data, 1)\n",
    "        total += labels.size(0)\n",
    "        correct += (predicted == labels).sum().item()\n",
    "\n",
    "print('Accuracy of the network on the 10000 test images: %d %%' % (\n",
    "    100 * correct / total))"
   ]
  },
  {
   "cell_type": "code",
   "execution_count": 77,
   "metadata": {
    "colab": {
     "base_uri": "https://localhost:8080/",
     "height": 187
    },
    "colab_type": "code",
    "id": "2uxu2qysf4ia",
    "outputId": "b00681dd-4454-4cfa-be41-19a4b3eab582"
   },
   "outputs": [
    {
     "name": "stdout",
     "output_type": "stream",
     "text": [
      "Accuracy of plane : 50 %\n",
      "Accuracy of   car :  0 %\n",
      "Accuracy of  bird :  0 %\n",
      "Accuracy of   cat : 13 %\n",
      "Accuracy of  deer : 19 %\n",
      "Accuracy of   dog :  2 %\n",
      "Accuracy of  frog : 10 %\n",
      "Accuracy of horse :  7 %\n",
      "Accuracy of  ship :  2 %\n",
      "Accuracy of truck :  0 %\n"
     ]
    }
   ],
   "source": [
    "class_correct = list(0. for i in range(10))\n",
    "class_total = list(0. for i in range(10))\n",
    "with torch.no_grad():\n",
    "    for data in validation_loader:\n",
    "        images, labels = data\n",
    "        outputs = model(images)\n",
    "        _, predicted = torch.max(outputs, 1)\n",
    "        c = (predicted == labels).squeeze()\n",
    "        for i in range(4):\n",
    "            label = labels[i]\n",
    "            class_correct[label] += c[i].item()\n",
    "            class_total[label] += 1\n",
    "\n",
    "\n",
    "for i in range(10):\n",
    "    print('Accuracy of %5s : %2d %%' % (\n",
    "        CLASSES[i], 100 * class_correct[i] / class_total[i]))"
   ]
  },
  {
   "cell_type": "markdown",
   "metadata": {
    "colab_type": "text",
    "id": "kRuFMmwvf4id"
   },
   "source": [
    "Каким образом мы можем улучшить качество распознавания и обучения?\n",
    "1. Добавить **dropout**\n",
    "\n",
    "2. Добавить **batchnorm** (2 семинар)\n",
    "3. Использовать свертки. Но об этом позже :)"
   ]
  },
  {
   "cell_type": "code",
   "execution_count": 79,
   "metadata": {
    "colab": {},
    "colab_type": "code",
    "id": "QwjLmYc7f4id"
   },
   "outputs": [],
   "source": [
    "class SecondNet(torch.nn.Module):\n",
    "    def __init__(self, n_hidden_nodes, n_hidden_layers,keep_rate=0.8):\n",
    "        super().__init__()\n",
    "        self.n_hidden_nodes = n_hidden_nodes\n",
    "        self.n_hidden_layers = n_hidden_layers\n",
    "#         if not keep_rate:\n",
    "#             keep_rate = 0.5\n",
    "#         self.keep_rate = keep_rate\n",
    "        # Set up perceptron layers and add dropout\n",
    "        self.fc1 = torch.nn.Linear(IMAGE_WIDTH * IMAGE_WIDTH * COLOR_CHANNELS,\n",
    "                                   self.n_hidden_nodes)\n",
    "        self.fc1_drop = torch.nn.Dropout(1 - keep_rate)\n",
    "        self.out = torch.nn.Linear(self.n_hidden_nodes, N_CLASSES)\n",
    "    \n",
    "    def forward(self, x):\n",
    "        x = x.view(-1, IMAGE_WIDTH * IMAGE_WIDTH * COLOR_CHANNELS)\n",
    "        sigmoid = torch.nn.Sigmoid()\n",
    "        x = sigmoid(self.fc1(x))\n",
    "        x = self.fc1_drop(x)\n",
    "        return torch.nn.functional.log_softmax(self.out(x))\n"
   ]
  },
  {
   "cell_type": "markdown",
   "metadata": {
    "colab": {
     "base_uri": "https://localhost:8080/",
     "height": 2450
    },
    "colab_type": "code",
    "id": "l6aah5zAf4ig",
    "outputId": "8501d9b1-b125-4680-85b5-4596f95c8e17"
   },
   "source": [
    "В Pytorch есть возможность запускать вычисления на GPU"
   ]
  },
  {
   "cell_type": "code",
   "execution_count": 80,
   "metadata": {
    "colab": {},
    "colab_type": "code",
    "id": "u3SvVLEAp4xg"
   },
   "outputs": [
    {
     "name": "stdout",
     "output_type": "stream",
     "text": [
      "Train Epoch: 1 [0/50000 (0%)]\tLoss: 2.326106\n",
      "Train Epoch: 1 [40000/50000 (80%)]\tLoss: 1.698092\n",
      "\n",
      "Validation set: Average loss: 1.9333, Accuracy: 3370/10000 (33%)\n",
      "\n",
      "Train Epoch: 2 [0/50000 (0%)]\tLoss: 2.840785\n",
      "Train Epoch: 2 [40000/50000 (80%)]\tLoss: 2.211629\n",
      "\n",
      "Validation set: Average loss: 1.8539, Accuracy: 3545/10000 (35%)\n",
      "\n",
      "Train Epoch: 3 [0/50000 (0%)]\tLoss: 1.360207\n",
      "Train Epoch: 3 [40000/50000 (80%)]\tLoss: 1.502800\n",
      "\n",
      "Validation set: Average loss: 1.8125, Accuracy: 3736/10000 (37%)\n",
      "\n",
      "Train Epoch: 4 [0/50000 (0%)]\tLoss: 1.719169\n",
      "Train Epoch: 4 [40000/50000 (80%)]\tLoss: 1.322459\n",
      "\n",
      "Validation set: Average loss: 1.7819, Accuracy: 3782/10000 (37%)\n",
      "\n",
      "Train Epoch: 5 [0/50000 (0%)]\tLoss: 2.219457\n",
      "Train Epoch: 5 [40000/50000 (80%)]\tLoss: 1.185141\n",
      "\n",
      "Validation set: Average loss: 1.7599, Accuracy: 3849/10000 (38%)\n",
      "\n",
      "Train Epoch: 6 [0/50000 (0%)]\tLoss: 2.147332\n",
      "Train Epoch: 6 [40000/50000 (80%)]\tLoss: 1.856057\n",
      "\n",
      "Validation set: Average loss: 1.7425, Accuracy: 3917/10000 (39%)\n",
      "\n",
      "Train Epoch: 7 [0/50000 (0%)]\tLoss: 1.366125\n",
      "Train Epoch: 7 [40000/50000 (80%)]\tLoss: 2.342082\n",
      "\n",
      "Validation set: Average loss: 1.7299, Accuracy: 3951/10000 (39%)\n",
      "\n",
      "Train Epoch: 8 [0/50000 (0%)]\tLoss: 2.100449\n",
      "Train Epoch: 8 [40000/50000 (80%)]\tLoss: 1.349229\n",
      "\n",
      "Validation set: Average loss: 1.7220, Accuracy: 3998/10000 (39%)\n",
      "\n",
      "Train Epoch: 9 [0/50000 (0%)]\tLoss: 1.272941\n",
      "Train Epoch: 9 [40000/50000 (80%)]\tLoss: 1.688321\n",
      "\n",
      "Validation set: Average loss: 1.7105, Accuracy: 4063/10000 (40%)\n",
      "\n",
      "Train Epoch: 10 [0/50000 (0%)]\tLoss: 1.360271\n",
      "Train Epoch: 10 [40000/50000 (80%)]\tLoss: 1.415901\n",
      "\n",
      "Validation set: Average loss: 1.7026, Accuracy: 4070/10000 (40%)\n",
      "\n",
      "Train Epoch: 11 [0/50000 (0%)]\tLoss: 1.225433\n",
      "Train Epoch: 11 [40000/50000 (80%)]\tLoss: 1.533170\n",
      "\n",
      "Validation set: Average loss: 1.6941, Accuracy: 4089/10000 (40%)\n",
      "\n",
      "Train Epoch: 12 [0/50000 (0%)]\tLoss: 2.148317\n",
      "Train Epoch: 12 [40000/50000 (80%)]\tLoss: 1.938420\n",
      "\n",
      "Validation set: Average loss: 1.6874, Accuracy: 4133/10000 (41%)\n",
      "\n",
      "Train Epoch: 13 [0/50000 (0%)]\tLoss: 0.761586\n",
      "Train Epoch: 13 [40000/50000 (80%)]\tLoss: 1.653658\n",
      "\n",
      "Validation set: Average loss: 1.6789, Accuracy: 4168/10000 (41%)\n",
      "\n",
      "Train Epoch: 14 [0/50000 (0%)]\tLoss: 1.000079\n",
      "Train Epoch: 14 [40000/50000 (80%)]\tLoss: 2.268233\n",
      "\n",
      "Validation set: Average loss: 1.6745, Accuracy: 4175/10000 (41%)\n",
      "\n",
      "Train Epoch: 15 [0/50000 (0%)]\tLoss: 1.472468\n",
      "Train Epoch: 15 [40000/50000 (80%)]\tLoss: 1.479928\n",
      "\n",
      "Validation set: Average loss: 1.6702, Accuracy: 4172/10000 (41%)\n",
      "\n",
      "Train Epoch: 16 [0/50000 (0%)]\tLoss: 1.752215\n",
      "Train Epoch: 16 [40000/50000 (80%)]\tLoss: 1.691049\n",
      "\n",
      "Validation set: Average loss: 1.6638, Accuracy: 4198/10000 (41%)\n",
      "\n",
      "Train Epoch: 17 [0/50000 (0%)]\tLoss: 2.246224\n",
      "Train Epoch: 17 [40000/50000 (80%)]\tLoss: 1.086636\n",
      "\n",
      "Validation set: Average loss: 1.6573, Accuracy: 4258/10000 (42%)\n",
      "\n",
      "Train Epoch: 18 [0/50000 (0%)]\tLoss: 1.319515\n",
      "Train Epoch: 18 [40000/50000 (80%)]\tLoss: 1.585239\n",
      "\n",
      "Validation set: Average loss: 1.6551, Accuracy: 4250/10000 (42%)\n",
      "\n",
      "Train Epoch: 19 [0/50000 (0%)]\tLoss: 2.185281\n",
      "Train Epoch: 19 [40000/50000 (80%)]\tLoss: 1.674630\n",
      "\n",
      "Validation set: Average loss: 1.6480, Accuracy: 4315/10000 (43%)\n",
      "\n",
      "Train Epoch: 20 [0/50000 (0%)]\tLoss: 1.517157\n",
      "Train Epoch: 20 [40000/50000 (80%)]\tLoss: 1.661481\n",
      "\n",
      "Validation set: Average loss: 1.6430, Accuracy: 4310/10000 (43%)\n",
      "\n",
      "Train Epoch: 21 [0/50000 (0%)]\tLoss: 1.805877\n",
      "Train Epoch: 21 [40000/50000 (80%)]\tLoss: 1.201182\n",
      "\n",
      "Validation set: Average loss: 1.6386, Accuracy: 4354/10000 (43%)\n",
      "\n",
      "Train Epoch: 22 [0/50000 (0%)]\tLoss: 1.473406\n",
      "Train Epoch: 22 [40000/50000 (80%)]\tLoss: 1.605783\n",
      "\n",
      "Validation set: Average loss: 1.6365, Accuracy: 4349/10000 (43%)\n",
      "\n",
      "Train Epoch: 23 [0/50000 (0%)]\tLoss: 1.470331\n",
      "Train Epoch: 23 [40000/50000 (80%)]\tLoss: 2.760544\n",
      "\n",
      "Validation set: Average loss: 1.6300, Accuracy: 4378/10000 (43%)\n",
      "\n",
      "Train Epoch: 24 [0/50000 (0%)]\tLoss: 0.724022\n",
      "Train Epoch: 24 [40000/50000 (80%)]\tLoss: 1.143977\n",
      "\n",
      "Validation set: Average loss: 1.6261, Accuracy: 4376/10000 (43%)\n",
      "\n",
      "Train Epoch: 25 [0/50000 (0%)]\tLoss: 1.365039\n",
      "Train Epoch: 25 [40000/50000 (80%)]\tLoss: 1.659503\n",
      "\n",
      "Validation set: Average loss: 1.6246, Accuracy: 4401/10000 (44%)\n",
      "\n",
      "Train Epoch: 26 [0/50000 (0%)]\tLoss: 1.725658\n",
      "Train Epoch: 26 [40000/50000 (80%)]\tLoss: 2.685280\n",
      "\n",
      "Validation set: Average loss: 1.6190, Accuracy: 4413/10000 (44%)\n",
      "\n",
      "Train Epoch: 27 [0/50000 (0%)]\tLoss: 0.901818\n",
      "Train Epoch: 27 [40000/50000 (80%)]\tLoss: 2.056154\n",
      "\n",
      "Validation set: Average loss: 1.6159, Accuracy: 4397/10000 (43%)\n",
      "\n",
      "Train Epoch: 28 [0/50000 (0%)]\tLoss: 1.777490\n",
      "Train Epoch: 28 [40000/50000 (80%)]\tLoss: 1.420936\n",
      "\n",
      "Validation set: Average loss: 1.6123, Accuracy: 4432/10000 (44%)\n",
      "\n",
      "Train Epoch: 29 [0/50000 (0%)]\tLoss: 2.016762\n",
      "Train Epoch: 29 [40000/50000 (80%)]\tLoss: 1.458404\n",
      "\n",
      "Validation set: Average loss: 1.6093, Accuracy: 4448/10000 (44%)\n",
      "\n",
      "Train Epoch: 30 [0/50000 (0%)]\tLoss: 2.037607\n",
      "Train Epoch: 30 [40000/50000 (80%)]\tLoss: 1.727894\n",
      "\n",
      "Validation set: Average loss: 1.6046, Accuracy: 4437/10000 (44%)\n",
      "\n",
      "Train Epoch: 31 [0/50000 (0%)]\tLoss: 1.097261\n",
      "Train Epoch: 31 [40000/50000 (80%)]\tLoss: 0.715996\n",
      "\n",
      "Validation set: Average loss: 1.6015, Accuracy: 4464/10000 (44%)\n",
      "\n",
      "Train Epoch: 32 [0/50000 (0%)]\tLoss: 1.420329\n",
      "Train Epoch: 32 [40000/50000 (80%)]\tLoss: 0.829237\n",
      "\n",
      "Validation set: Average loss: 1.5996, Accuracy: 4438/10000 (44%)\n",
      "\n",
      "Train Epoch: 33 [0/50000 (0%)]\tLoss: 1.564520\n",
      "Train Epoch: 33 [40000/50000 (80%)]\tLoss: 1.036033\n",
      "\n",
      "Validation set: Average loss: 1.5949, Accuracy: 4454/10000 (44%)\n",
      "\n",
      "Train Epoch: 34 [0/50000 (0%)]\tLoss: 1.314242\n",
      "Train Epoch: 34 [40000/50000 (80%)]\tLoss: 2.310015\n",
      "\n",
      "Validation set: Average loss: 1.5917, Accuracy: 4482/10000 (44%)\n",
      "\n",
      "Train Epoch: 35 [0/50000 (0%)]\tLoss: 1.273082\n",
      "Train Epoch: 35 [40000/50000 (80%)]\tLoss: 1.727807\n",
      "\n",
      "Validation set: Average loss: 1.5912, Accuracy: 4495/10000 (44%)\n",
      "\n",
      "Train Epoch: 36 [0/50000 (0%)]\tLoss: 1.743696\n",
      "Train Epoch: 36 [40000/50000 (80%)]\tLoss: 1.899239\n",
      "\n",
      "Validation set: Average loss: 1.5884, Accuracy: 4496/10000 (44%)\n",
      "\n",
      "Train Epoch: 37 [0/50000 (0%)]\tLoss: 1.420849\n",
      "Train Epoch: 37 [40000/50000 (80%)]\tLoss: 2.741913\n",
      "\n",
      "Validation set: Average loss: 1.5836, Accuracy: 4530/10000 (45%)\n",
      "\n",
      "Train Epoch: 38 [0/50000 (0%)]\tLoss: 1.646217\n",
      "Train Epoch: 38 [40000/50000 (80%)]\tLoss: 1.762835\n",
      "\n",
      "Validation set: Average loss: 1.5807, Accuracy: 4501/10000 (45%)\n",
      "\n",
      "Train Epoch: 39 [0/50000 (0%)]\tLoss: 1.833329\n",
      "Train Epoch: 39 [40000/50000 (80%)]\tLoss: 2.044594\n",
      "\n",
      "Validation set: Average loss: 1.5795, Accuracy: 4542/10000 (45%)\n",
      "\n",
      "Train Epoch: 40 [0/50000 (0%)]\tLoss: 2.394237\n",
      "Train Epoch: 40 [40000/50000 (80%)]\tLoss: 1.942124\n",
      "\n",
      "Validation set: Average loss: 1.5748, Accuracy: 4548/10000 (45%)\n",
      "\n"
     ]
    }
   ],
   "source": [
    "hidden_nodes = 100\n",
    "layers = 1\n",
    "model = SecondNet(hidden_nodes, layers)\n",
    "optimizer = torch.optim.SGD(model.parameters(), lr=LEARNING_RATE)\n",
    "loss_vector = []\n",
    "acc_vector = []\n",
    "for epoch in range(1, EPOCHS + 1):\n",
    "    train(epoch, model, train_loader, optimizer, cuda=cuda)\n",
    "    validate(loss_vector, acc_vector, model, validation_loader, cuda=cuda)\n",
    "    if epoch == 40:\n",
    "        break\n",
    "\n",
    "# to save model use torch.save(model.state_dict(), 'Second_Net.pt') \n",
    "# to load use model.load_state_dict(torch.load('Second_Model.pt'))"
   ]
  },
  {
   "cell_type": "code",
   "execution_count": 90,
   "metadata": {
    "colab": {
     "base_uri": "https://localhost:8080/",
     "height": 363
    },
    "colab_type": "code",
    "id": "p0Q-D23Qf4ii",
    "outputId": "3edd2f81-28ce-45c7-e745-621584528493"
   },
   "outputs": [
    {
     "name": "stdout",
     "output_type": "stream",
     "text": [
      "40\n",
      "40\n"
     ]
    },
    {
     "data": {
      "image/png": "[encoded data removed]",
      "text/plain": [
       "<Figure size 432x288 with 1 Axes>"
      ]
     },
     "metadata": {
      "needs_background": "light"
     },
     "output_type": "display_data"
    }
   ],
   "source": [
    "# Plot train loss and validation accuracy vs epochs for each learning rate\n",
    "print(len(loss_vector))\n",
    "epochs = [i for i in range(1, 40 + 1)]\n",
    "print(len(epochs))\n",
    "plt.plot(epochs, loss_vector)\n",
    "plt.xlabel(\"Epochs\")\n",
    "plt.ylabel(\"Loss\")\n",
    "plt.show()"
   ]
  },
  {
   "cell_type": "markdown",
   "metadata": {
    "colab_type": "text",
    "id": "y9US-3ZjrSBI"
   },
   "source": [
    "Попробуйте самостоятельно написать двуслойную сеть с дропаутом. Получилось ли улучшить результат?"
   ]
  },
  {
   "cell_type": "code",
   "execution_count": 91,
   "metadata": {
    "colab": {},
    "colab_type": "code",
    "id": "UZj3d7h7tRu9"
   },
   "outputs": [],
   "source": [
    "class TwoLayerNet(torch.nn.Module):\n",
    "    def __init__(self, n_hidden_nodes, n_hidden_layers, keep_rate=0.8):\n",
    "        super(TwoLayerNet, self).__init__()\n",
    "        self.n_hidden_nodes = n_hidden_nodes\n",
    "        self.n_hidden_layers = n_hidden_layers\n",
    "        # Set up perceptron layers and add dropout\n",
    "        self.fc1 = torch.nn.Linear(IMAGE_WIDTH * IMAGE_WIDTH * COLOR_CHANNELS,\n",
    "                                   n_hidden_nodes)\n",
    "        self.fc1_drop = torch.nn.Dropout(1 - keep_rate)\n",
    "        if n_hidden_layers == 2:\n",
    "            self.fc2 = torch.nn.Linear(IMAGE_WIDTH * IMAGE_WIDTH * COLOR_CHANNELS,\n",
    "                                       n_hidden_nodes)\n",
    "            self.fc2_drop = torch.nn.Dropout(1 - keep_rate)\n",
    "\n",
    "        self.out = torch.nn.Linear(n_hidden_nodes, N_CLASSES)\n",
    "    \n",
    "    def forward(self, x):\n",
    "        x = x.view(-1, IMAGE_WIDTH * IMAGE_WIDTH * COLOR_CHANNELS)\n",
    "        sigmoid = torch.nn.Sigmoid()\n",
    "        x = sigmoid(self.fc1(x))\n",
    "        self.fc1_drop(x)\n",
    "        x = sigmoid(self.fc2(x))\n",
    "        self.fc2_drop(x)\n",
    "        return torch.nn.functional.log_softmax(self.out(x))"
   ]
  },
  {
   "cell_type": "code",
   "execution_count": 93,
   "metadata": {
    "colab": {},
    "colab_type": "code",
    "id": "VFtgxjJ6rPVr"
   },
   "outputs": [
    {
     "name": "stdout",
     "output_type": "stream",
     "text": [
      "Train Epoch: 1 [0/50000 (0%)]\tLoss: 2.590395\n",
      "Train Epoch: 1 [40000/50000 (80%)]\tLoss: 2.157395\n",
      "\n",
      "Validation set: Average loss: 2.0007, Accuracy: 3178/10000 (31%)\n",
      "\n",
      "Train Epoch: 2 [0/50000 (0%)]\tLoss: 1.593386\n",
      "Train Epoch: 2 [40000/50000 (80%)]\tLoss: 2.072642\n",
      "\n",
      "Validation set: Average loss: 1.9141, Accuracy: 3321/10000 (33%)\n",
      "\n",
      "Train Epoch: 3 [0/50000 (0%)]\tLoss: 2.017270\n",
      "Train Epoch: 3 [40000/50000 (80%)]\tLoss: 2.334421\n",
      "\n",
      "Validation set: Average loss: 1.8691, Accuracy: 3509/10000 (35%)\n",
      "\n",
      "Train Epoch: 4 [0/50000 (0%)]\tLoss: 1.984485\n",
      "Train Epoch: 4 [40000/50000 (80%)]\tLoss: 2.552801\n",
      "\n",
      "Validation set: Average loss: 1.8379, Accuracy: 3630/10000 (36%)\n",
      "\n",
      "Train Epoch: 5 [0/50000 (0%)]\tLoss: 1.956201\n",
      "Train Epoch: 5 [40000/50000 (80%)]\tLoss: 1.456642\n",
      "\n",
      "Validation set: Average loss: 1.8156, Accuracy: 3682/10000 (36%)\n",
      "\n",
      "Train Epoch: 6 [0/50000 (0%)]\tLoss: 1.290641\n",
      "Train Epoch: 6 [40000/50000 (80%)]\tLoss: 1.874414\n",
      "\n",
      "Validation set: Average loss: 1.7970, Accuracy: 3732/10000 (37%)\n",
      "\n",
      "Train Epoch: 7 [0/50000 (0%)]\tLoss: 1.115936\n",
      "Train Epoch: 7 [40000/50000 (80%)]\tLoss: 1.614269\n",
      "\n",
      "Validation set: Average loss: 1.7816, Accuracy: 3799/10000 (37%)\n",
      "\n",
      "Train Epoch: 8 [0/50000 (0%)]\tLoss: 1.912832\n",
      "Train Epoch: 8 [40000/50000 (80%)]\tLoss: 1.792447\n",
      "\n",
      "Validation set: Average loss: 1.7686, Accuracy: 3834/10000 (38%)\n",
      "\n",
      "Train Epoch: 9 [0/50000 (0%)]\tLoss: 2.101707\n",
      "Train Epoch: 9 [40000/50000 (80%)]\tLoss: 2.867951\n",
      "\n",
      "Validation set: Average loss: 1.7581, Accuracy: 3838/10000 (38%)\n",
      "\n",
      "Train Epoch: 10 [0/50000 (0%)]\tLoss: 1.366779\n",
      "Train Epoch: 10 [40000/50000 (80%)]\tLoss: 1.413669\n",
      "\n",
      "Validation set: Average loss: 1.7478, Accuracy: 3903/10000 (39%)\n",
      "\n",
      "Train Epoch: 11 [0/50000 (0%)]\tLoss: 1.393363\n",
      "Train Epoch: 11 [40000/50000 (80%)]\tLoss: 1.440646\n",
      "\n",
      "Validation set: Average loss: 1.7394, Accuracy: 3924/10000 (39%)\n",
      "\n",
      "Train Epoch: 12 [0/50000 (0%)]\tLoss: 2.121016\n",
      "Train Epoch: 12 [40000/50000 (80%)]\tLoss: 2.041532\n",
      "\n",
      "Validation set: Average loss: 1.7333, Accuracy: 3923/10000 (39%)\n",
      "\n",
      "Train Epoch: 13 [0/50000 (0%)]\tLoss: 1.668258\n",
      "Train Epoch: 13 [40000/50000 (80%)]\tLoss: 1.596836\n",
      "\n",
      "Validation set: Average loss: 1.7274, Accuracy: 3941/10000 (39%)\n",
      "\n",
      "Train Epoch: 14 [0/50000 (0%)]\tLoss: 2.177281\n",
      "Train Epoch: 14 [40000/50000 (80%)]\tLoss: 1.602939\n",
      "\n",
      "Validation set: Average loss: 1.7211, Accuracy: 3984/10000 (39%)\n",
      "\n",
      "Train Epoch: 15 [0/50000 (0%)]\tLoss: 1.469352\n",
      "Train Epoch: 15 [40000/50000 (80%)]\tLoss: 1.500942\n",
      "\n",
      "Validation set: Average loss: 1.7180, Accuracy: 4020/10000 (40%)\n",
      "\n",
      "Train Epoch: 16 [0/50000 (0%)]\tLoss: 1.447222\n",
      "Train Epoch: 16 [40000/50000 (80%)]\tLoss: 1.489901\n",
      "\n",
      "Validation set: Average loss: 1.7121, Accuracy: 4007/10000 (40%)\n",
      "\n",
      "Train Epoch: 17 [0/50000 (0%)]\tLoss: 1.583035\n",
      "Train Epoch: 17 [40000/50000 (80%)]\tLoss: 1.593731\n",
      "\n",
      "Validation set: Average loss: 1.7086, Accuracy: 4030/10000 (40%)\n",
      "\n",
      "Train Epoch: 18 [0/50000 (0%)]\tLoss: 1.317640\n",
      "Train Epoch: 18 [40000/50000 (80%)]\tLoss: 1.775784\n",
      "\n",
      "Validation set: Average loss: 1.7041, Accuracy: 4028/10000 (40%)\n",
      "\n",
      "Train Epoch: 19 [0/50000 (0%)]\tLoss: 1.304545\n",
      "Train Epoch: 19 [40000/50000 (80%)]\tLoss: 2.044166\n",
      "\n",
      "Validation set: Average loss: 1.7007, Accuracy: 4062/10000 (40%)\n",
      "\n",
      "Train Epoch: 20 [0/50000 (0%)]\tLoss: 1.461068\n",
      "Train Epoch: 20 [40000/50000 (80%)]\tLoss: 1.711579\n",
      "\n",
      "Validation set: Average loss: 1.6995, Accuracy: 4056/10000 (40%)\n",
      "\n",
      "Train Epoch: 21 [0/50000 (0%)]\tLoss: 1.337273\n",
      "Train Epoch: 21 [40000/50000 (80%)]\tLoss: 1.665337\n",
      "\n",
      "Validation set: Average loss: 1.6964, Accuracy: 4071/10000 (40%)\n",
      "\n",
      "Train Epoch: 22 [0/50000 (0%)]\tLoss: 1.273077\n",
      "Train Epoch: 22 [40000/50000 (80%)]\tLoss: 2.079619\n",
      "\n",
      "Validation set: Average loss: 1.6938, Accuracy: 4080/10000 (40%)\n",
      "\n",
      "Train Epoch: 23 [0/50000 (0%)]\tLoss: 1.283115\n",
      "Train Epoch: 23 [40000/50000 (80%)]\tLoss: 1.336512\n",
      "\n",
      "Validation set: Average loss: 1.6905, Accuracy: 4085/10000 (40%)\n",
      "\n",
      "Train Epoch: 24 [0/50000 (0%)]\tLoss: 1.724605\n",
      "Train Epoch: 24 [40000/50000 (80%)]\tLoss: 1.566036\n",
      "\n",
      "Validation set: Average loss: 1.6901, Accuracy: 4130/10000 (41%)\n",
      "\n",
      "Train Epoch: 25 [0/50000 (0%)]\tLoss: 1.346465\n",
      "Train Epoch: 25 [40000/50000 (80%)]\tLoss: 1.934638\n",
      "\n",
      "Validation set: Average loss: 1.6866, Accuracy: 4105/10000 (41%)\n",
      "\n",
      "Train Epoch: 26 [0/50000 (0%)]\tLoss: 1.944636\n",
      "Train Epoch: 26 [40000/50000 (80%)]\tLoss: 2.345606\n",
      "\n",
      "Validation set: Average loss: 1.6834, Accuracy: 4141/10000 (41%)\n",
      "\n",
      "Train Epoch: 27 [0/50000 (0%)]\tLoss: 2.315166\n",
      "Train Epoch: 27 [40000/50000 (80%)]\tLoss: 2.554971\n",
      "\n",
      "Validation set: Average loss: 1.6821, Accuracy: 4133/10000 (41%)\n",
      "\n",
      "Train Epoch: 28 [0/50000 (0%)]\tLoss: 1.649115\n",
      "Train Epoch: 28 [40000/50000 (80%)]\tLoss: 1.417190\n",
      "\n",
      "Validation set: Average loss: 1.6800, Accuracy: 4147/10000 (41%)\n",
      "\n",
      "Train Epoch: 29 [0/50000 (0%)]\tLoss: 1.702053\n",
      "Train Epoch: 29 [40000/50000 (80%)]\tLoss: 1.540174\n",
      "\n",
      "Validation set: Average loss: 1.6779, Accuracy: 4140/10000 (41%)\n",
      "\n",
      "Train Epoch: 30 [0/50000 (0%)]\tLoss: 1.850923\n",
      "Train Epoch: 30 [40000/50000 (80%)]\tLoss: 1.457629\n",
      "\n",
      "Validation set: Average loss: 1.6774, Accuracy: 4160/10000 (41%)\n",
      "\n",
      "Train Epoch: 31 [0/50000 (0%)]\tLoss: 1.553767\n",
      "Train Epoch: 31 [40000/50000 (80%)]\tLoss: 1.449125\n",
      "\n",
      "Validation set: Average loss: 1.6745, Accuracy: 4170/10000 (41%)\n",
      "\n",
      "Train Epoch: 32 [0/50000 (0%)]\tLoss: 1.734035\n",
      "Train Epoch: 32 [40000/50000 (80%)]\tLoss: 1.335794\n",
      "\n",
      "Validation set: Average loss: 1.6730, Accuracy: 4171/10000 (41%)\n",
      "\n",
      "Train Epoch: 33 [0/50000 (0%)]\tLoss: 1.570593\n",
      "Train Epoch: 33 [40000/50000 (80%)]\tLoss: 1.403125\n",
      "\n",
      "Validation set: Average loss: 1.6708, Accuracy: 4147/10000 (41%)\n",
      "\n",
      "Train Epoch: 34 [0/50000 (0%)]\tLoss: 1.118128\n",
      "Train Epoch: 34 [40000/50000 (80%)]\tLoss: 1.530918\n",
      "\n",
      "Validation set: Average loss: 1.6680, Accuracy: 4180/10000 (41%)\n",
      "\n",
      "Train Epoch: 35 [0/50000 (0%)]\tLoss: 1.896172\n",
      "Train Epoch: 35 [40000/50000 (80%)]\tLoss: 1.802453\n",
      "\n",
      "Validation set: Average loss: 1.6669, Accuracy: 4203/10000 (42%)\n",
      "\n",
      "Train Epoch: 36 [0/50000 (0%)]\tLoss: 1.728648\n",
      "Train Epoch: 36 [40000/50000 (80%)]\tLoss: 1.834414\n",
      "\n",
      "Validation set: Average loss: 1.6646, Accuracy: 4199/10000 (41%)\n",
      "\n",
      "Train Epoch: 37 [0/50000 (0%)]\tLoss: 2.276715\n",
      "Train Epoch: 37 [40000/50000 (80%)]\tLoss: 2.245683\n",
      "\n",
      "Validation set: Average loss: 1.6637, Accuracy: 4187/10000 (41%)\n",
      "\n",
      "Train Epoch: 38 [0/50000 (0%)]\tLoss: 2.178643\n",
      "Train Epoch: 38 [40000/50000 (80%)]\tLoss: 2.030638\n",
      "\n",
      "Validation set: Average loss: 1.6622, Accuracy: 4199/10000 (41%)\n",
      "\n",
      "Train Epoch: 39 [0/50000 (0%)]\tLoss: 3.001993\n",
      "Train Epoch: 39 [40000/50000 (80%)]\tLoss: 1.149752\n",
      "\n",
      "Validation set: Average loss: 1.6633, Accuracy: 4198/10000 (41%)\n",
      "\n",
      "Train Epoch: 40 [0/50000 (0%)]\tLoss: 1.222462\n",
      "Train Epoch: 40 [40000/50000 (80%)]\tLoss: 1.709131\n",
      "\n",
      "Validation set: Average loss: 1.6587, Accuracy: 4192/10000 (41%)\n",
      "\n"
     ]
    }
   ],
   "source": [
    "hidden_nodes = 20\n",
    "layers = 2\n",
    "model = SecondNet(hidden_nodes, layers)\n",
    "optimizer = torch.optim.SGD(model.parameters(), lr=LEARNING_RATE)\n",
    "loss_vector = []\n",
    "acc_vector = []\n",
    "for epoch in range(1, EPOCHS + 1):\n",
    "    train(epoch, model, train_loader, optimizer, cuda=cuda)\n",
    "    validate(loss_vector, acc_vector, model, validation_loader, cuda=cuda)\n",
    "    if epoch == 40:\n",
    "        break"
   ]
  },
  {
   "cell_type": "code",
   "execution_count": 94,
   "metadata": {},
   "outputs": [
    {
     "name": "stdout",
     "output_type": "stream",
     "text": [
      "40\n",
      "40\n"
     ]
    },
    {
     "data": {
      "image/png": "[encoded data removed]",
      "text/plain": [
       "<Figure size 432x288 with 1 Axes>"
      ]
     },
     "metadata": {
      "needs_background": "light"
     },
     "output_type": "display_data"
    }
   ],
   "source": [
    "# Plot train loss and validation accuracy vs epochs for each learning rate\n",
    "print(len(loss_vector))\n",
    "epochs = [i for i in range(1, 40 + 1)]\n",
    "print(len(epochs))\n",
    "plt.plot(epochs, loss_vector)\n",
    "plt.xlabel(\"Epochs\")\n",
    "plt.ylabel(\"Loss\")\n",
    "plt.show()"
   ]
  },
  {
   "cell_type": "code",
   "execution_count": null,
   "metadata": {},
   "outputs": [],
   "source": []
  }
 ],
 "metadata": {
  "colab": {
   "name": "[seminar1]cifar10.ipynb",
   "provenance": [],
   "version": "0.3.2"
  },
  "kernelspec": {
   "display_name": "Python 3",
   "language": "python",
   "name": "python3"
  },
  "language_info": {
   "codemirror_mode": {
    "name": "ipython",
    "version": 3
   },
   "file_extension": ".py",
   "mimetype": "text/x-python",
   "name": "python",
   "nbconvert_exporter": "python",
   "pygments_lexer": "ipython3",
   "version": "3.7.2"
  }
 },
 "nbformat": 4,
 "nbformat_minor": 1
}
